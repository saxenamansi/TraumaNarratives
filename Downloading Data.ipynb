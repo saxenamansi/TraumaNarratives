{
 "cells": [
  {
   "cell_type": "markdown",
   "id": "aa693fe3",
   "metadata": {},
   "source": [
    "# Downloading data\n",
    "\n",
    "1. r/domesticviolence\n",
    "2. r/MeToo\n",
    "3. r/SexualHarassment\n",
    "4. r/sexualassault"
   ]
  },
  {
   "cell_type": "markdown",
   "id": "221a081b",
   "metadata": {},
   "source": [
    "https://github.com/CornellNLP/ConvoKit/blob/master/examples/corpus_from_pandas.ipynb"
   ]
  },
  {
   "cell_type": "code",
   "execution_count": 1,
   "id": "714628ae",
   "metadata": {},
   "outputs": [],
   "source": [
    "! pip install convokit"
   ]
  },
  {
   "cell_type": "code",
   "execution_count": 2,
   "id": "066b6d88",
   "metadata": {},
   "outputs": [],
   "source": [
    "import convokit"
   ]
  },
  {
   "cell_type": "code",
   "execution_count": 1,
   "id": "43c2e629",
   "metadata": {},
   "outputs": [],
   "source": [
    "from convokit import Corpus, download\n",
    "import pandas as pd"
   ]
  },
  {
   "cell_type": "code",
   "execution_count": 4,
   "id": "7621464f",
   "metadata": {},
   "outputs": [
    {
     "name": "stdout",
     "output_type": "stream",
     "text": [
      "Downloading subreddit-domesticviolence to /Users/mansisaxena/.convokit/downloads/subreddit-domesticviolence\n",
      "Downloading subreddit-domesticviolence from http://zissou.infosci.cornell.edu/convokit/datasets/subreddit-corpus/corpus-zipped/dogecoin4hipsters~-~donaldtrump/domesticviolence.corpus.zip (6.7MB)... Done\n"
     ]
    }
   ],
   "source": [
    "corpus = Corpus(download('subreddit-domesticviolence'))"
   ]
  },
  {
   "cell_type": "code",
   "execution_count": 5,
   "id": "1cfb433b",
   "metadata": {},
   "outputs": [
    {
     "name": "stdout",
     "output_type": "stream",
     "text": [
      "Number of Speakers: 4908\n",
      "Number of Utterances: 22654\n",
      "Number of Conversations: 4943\n"
     ]
    }
   ],
   "source": [
    "corpus.print_summary_stats()"
   ]
  },
  {
   "cell_type": "code",
   "execution_count": 6,
   "id": "030ee394",
   "metadata": {},
   "outputs": [],
   "source": [
    "# you can ignore this\n",
    "utt_df = corpus.get_utterances_dataframe().drop(columns=['vectors'])\n",
    "convo_df = corpus.get_conversations_dataframe().drop(columns=['vectors'])\n",
    "speaker_df = corpus.get_speakers_dataframe().drop(columns=['vectors']) "
   ]
  },
  {
   "cell_type": "code",
   "execution_count": 7,
   "id": "a3ac0b5c",
   "metadata": {},
   "outputs": [],
   "source": [
    "speakers = speaker_df.index.to_list()  # list of unique number of speakers"
   ]
  },
  {
   "cell_type": "code",
   "execution_count": 8,
   "id": "1b3eecd2",
   "metadata": {
    "scrolled": true
   },
   "outputs": [
    {
     "data": {
      "text/html": [
       "<div>\n",
       "<style scoped>\n",
       "    .dataframe tbody tr th:only-of-type {\n",
       "        vertical-align: middle;\n",
       "    }\n",
       "\n",
       "    .dataframe tbody tr th {\n",
       "        vertical-align: top;\n",
       "    }\n",
       "\n",
       "    .dataframe thead th {\n",
       "        text-align: right;\n",
       "    }\n",
       "</style>\n",
       "<table border=\"1\" class=\"dataframe\">\n",
       "  <thead>\n",
       "    <tr style=\"text-align: right;\">\n",
       "      <th></th>\n",
       "      <th>meta.title</th>\n",
       "      <th>meta.num_comments</th>\n",
       "      <th>meta.domain</th>\n",
       "      <th>meta.timestamp</th>\n",
       "      <th>meta.subreddit</th>\n",
       "      <th>meta.gilded</th>\n",
       "      <th>meta.gildings</th>\n",
       "      <th>meta.stickied</th>\n",
       "      <th>meta.author_flair_text</th>\n",
       "    </tr>\n",
       "    <tr>\n",
       "      <th>id</th>\n",
       "      <th></th>\n",
       "      <th></th>\n",
       "      <th></th>\n",
       "      <th></th>\n",
       "      <th></th>\n",
       "      <th></th>\n",
       "      <th></th>\n",
       "      <th></th>\n",
       "      <th></th>\n",
       "    </tr>\n",
       "  </thead>\n",
       "  <tbody>\n",
       "    <tr>\n",
       "      <th>o0pbq</th>\n",
       "      <td>My coworker is in an abusive relationship, and...</td>\n",
       "      <td>7</td>\n",
       "      <td>self.domesticviolence</td>\n",
       "      <td>1325565642</td>\n",
       "      <td>domesticviolence</td>\n",
       "      <td>-1</td>\n",
       "      <td>None</td>\n",
       "      <td>False</td>\n",
       "      <td></td>\n",
       "    </tr>\n",
       "  </tbody>\n",
       "</table>\n",
       "</div>"
      ],
      "text/plain": [
       "                                              meta.title meta.num_comments  \\\n",
       "id                                                                           \n",
       "o0pbq  My coworker is in an abusive relationship, and...                 7   \n",
       "\n",
       "                 meta.domain meta.timestamp    meta.subreddit meta.gilded  \\\n",
       "id                                                                          \n",
       "o0pbq  self.domesticviolence     1325565642  domesticviolence          -1   \n",
       "\n",
       "      meta.gildings meta.stickied meta.author_flair_text  \n",
       "id                                                        \n",
       "o0pbq          None         False                         "
      ]
     },
     "execution_count": 8,
     "metadata": {},
     "output_type": "execute_result"
    }
   ],
   "source": [
    "convo_df.head(1)"
   ]
  },
  {
   "cell_type": "code",
   "execution_count": 9,
   "id": "028ade7b",
   "metadata": {
    "scrolled": true
   },
   "outputs": [
    {
     "name": "stdout",
     "output_type": "stream",
     "text": [
      "<class 'pandas.core.frame.DataFrame'>\n",
      "Index: 4943 entries, o0pbq to f97y0\n",
      "Data columns (total 9 columns):\n",
      " #   Column                  Non-Null Count  Dtype \n",
      "---  ------                  --------------  ----- \n",
      " 0   meta.title              4943 non-null   object\n",
      " 1   meta.num_comments       4943 non-null   object\n",
      " 2   meta.domain             4943 non-null   object\n",
      " 3   meta.timestamp          4943 non-null   object\n",
      " 4   meta.subreddit          4943 non-null   object\n",
      " 5   meta.gilded             4943 non-null   object\n",
      " 6   meta.gildings           388 non-null    object\n",
      " 7   meta.stickied           4943 non-null   object\n",
      " 8   meta.author_flair_text  4943 non-null   object\n",
      "dtypes: object(9)\n",
      "memory usage: 386.2+ KB\n"
     ]
    }
   ],
   "source": [
    "convo_df.info()"
   ]
  },
  {
   "cell_type": "code",
   "execution_count": 10,
   "id": "793038c3",
   "metadata": {},
   "outputs": [
    {
     "data": {
      "text/html": [
       "<div>\n",
       "<style scoped>\n",
       "    .dataframe tbody tr th:only-of-type {\n",
       "        vertical-align: middle;\n",
       "    }\n",
       "\n",
       "    .dataframe tbody tr th {\n",
       "        vertical-align: top;\n",
       "    }\n",
       "\n",
       "    .dataframe thead th {\n",
       "        text-align: right;\n",
       "    }\n",
       "</style>\n",
       "<table border=\"1\" class=\"dataframe\">\n",
       "  <thead>\n",
       "    <tr style=\"text-align: right;\">\n",
       "      <th></th>\n",
       "      <th>timestamp</th>\n",
       "      <th>text</th>\n",
       "      <th>speaker</th>\n",
       "      <th>reply_to</th>\n",
       "      <th>conversation_id</th>\n",
       "      <th>meta.score</th>\n",
       "      <th>meta.top_level_comment</th>\n",
       "      <th>meta.retrieved_on</th>\n",
       "      <th>meta.gilded</th>\n",
       "      <th>meta.gildings</th>\n",
       "      <th>meta.subreddit</th>\n",
       "      <th>meta.stickied</th>\n",
       "      <th>meta.permalink</th>\n",
       "      <th>meta.author_flair_text</th>\n",
       "    </tr>\n",
       "    <tr>\n",
       "      <th>id</th>\n",
       "      <th></th>\n",
       "      <th></th>\n",
       "      <th></th>\n",
       "      <th></th>\n",
       "      <th></th>\n",
       "      <th></th>\n",
       "      <th></th>\n",
       "      <th></th>\n",
       "      <th></th>\n",
       "      <th></th>\n",
       "      <th></th>\n",
       "      <th></th>\n",
       "      <th></th>\n",
       "      <th></th>\n",
       "    </tr>\n",
       "  </thead>\n",
       "  <tbody>\n",
       "    <tr>\n",
       "      <th>o0pbq</th>\n",
       "      <td>1325565642</td>\n",
       "      <td>My coworker is in an abusive relationship, and...</td>\n",
       "      <td>DVsKat</td>\n",
       "      <td>None</td>\n",
       "      <td>o0pbq</td>\n",
       "      <td>3</td>\n",
       "      <td>None</td>\n",
       "      <td>-1</td>\n",
       "      <td>-1</td>\n",
       "      <td>None</td>\n",
       "      <td>domesticviolence</td>\n",
       "      <td>False</td>\n",
       "      <td>/r/domesticviolence/comments/o0pbq/my_coworker...</td>\n",
       "      <td></td>\n",
       "    </tr>\n",
       "  </tbody>\n",
       "</table>\n",
       "</div>"
      ],
      "text/plain": [
       "        timestamp                                               text speaker  \\\n",
       "id                                                                             \n",
       "o0pbq  1325565642  My coworker is in an abusive relationship, and...  DVsKat   \n",
       "\n",
       "      reply_to conversation_id meta.score meta.top_level_comment  \\\n",
       "id                                                                 \n",
       "o0pbq     None           o0pbq          3                   None   \n",
       "\n",
       "      meta.retrieved_on meta.gilded meta.gildings    meta.subreddit  \\\n",
       "id                                                                    \n",
       "o0pbq                -1          -1          None  domesticviolence   \n",
       "\n",
       "      meta.stickied                                     meta.permalink  \\\n",
       "id                                                                       \n",
       "o0pbq         False  /r/domesticviolence/comments/o0pbq/my_coworker...   \n",
       "\n",
       "      meta.author_flair_text  \n",
       "id                            \n",
       "o0pbq                         "
      ]
     },
     "execution_count": 10,
     "metadata": {},
     "output_type": "execute_result"
    }
   ],
   "source": [
    " utt_df.head(1)"
   ]
  },
  {
   "cell_type": "code",
   "execution_count": 11,
   "id": "82a80b43",
   "metadata": {},
   "outputs": [
    {
     "name": "stdout",
     "output_type": "stream",
     "text": [
      "<class 'pandas.core.frame.DataFrame'>\n",
      "Index: 22654 entries, o0pbq to e8t8e05\n",
      "Data columns (total 14 columns):\n",
      " #   Column                  Non-Null Count  Dtype \n",
      "---  ------                  --------------  ----- \n",
      " 0   timestamp               22654 non-null  object\n",
      " 1   text                    22654 non-null  object\n",
      " 2   speaker                 22654 non-null  object\n",
      " 3   reply_to                17711 non-null  object\n",
      " 4   conversation_id         22654 non-null  object\n",
      " 5   meta.score              22654 non-null  object\n",
      " 6   meta.top_level_comment  17711 non-null  object\n",
      " 7   meta.retrieved_on       22654 non-null  object\n",
      " 8   meta.gilded             22654 non-null  object\n",
      " 9   meta.gildings           2291 non-null   object\n",
      " 10  meta.subreddit          22654 non-null  object\n",
      " 11  meta.stickied           22654 non-null  object\n",
      " 12  meta.permalink          22654 non-null  object\n",
      " 13  meta.author_flair_text  22654 non-null  object\n",
      "dtypes: object(14)\n",
      "memory usage: 2.6+ MB\n"
     ]
    }
   ],
   "source": [
    "utt_df.info()"
   ]
  },
  {
   "cell_type": "code",
   "execution_count": 12,
   "id": "b2a8c22b",
   "metadata": {},
   "outputs": [
    {
     "name": "stdout",
     "output_type": "stream",
     "text": [
      "22002\n",
      "20308\n",
      "18778\n"
     ]
    }
   ],
   "source": [
    "processed_utt = utt_df[utt_df['text'] != \"[removed]\"]\n",
    "print(len(processed_utt))\n",
    "processed_utt = processed_utt[processed_utt['text'] != \"[deleted]\"]\n",
    "print(len(processed_utt))\n",
    "processed_utt = processed_utt[processed_utt['text'] != \"\"]\n",
    "print(len(processed_utt))"
   ]
  },
  {
   "cell_type": "code",
   "execution_count": 13,
   "id": "3fb8605b",
   "metadata": {},
   "outputs": [],
   "source": [
    "posts = processed_utt[processed_utt['reply_to'].isna()]\n",
    "\n",
    "comments = processed_utt[processed_utt['reply_to'].notna()]"
   ]
  },
  {
   "cell_type": "code",
   "execution_count": 14,
   "id": "47881462",
   "metadata": {},
   "outputs": [
    {
     "data": {
      "text/plain": [
       "(2339, 16439)"
      ]
     },
     "execution_count": 14,
     "metadata": {},
     "output_type": "execute_result"
    }
   ],
   "source": [
    "len(posts), len(comments)"
   ]
  },
  {
   "cell_type": "code",
   "execution_count": 15,
   "id": "91e689bd",
   "metadata": {},
   "outputs": [
    {
     "name": "stdout",
     "output_type": "stream",
     "text": [
      "Number of overlapping values: 2339\n"
     ]
    }
   ],
   "source": [
    "import numpy as np\n",
    "\n",
    "convo_ids = convo_df.index.values\n",
    "posts_ids = posts.index.values\n",
    "\n",
    "# Finding common values between the two arrays\n",
    "common_ids = np.intersect1d(convo_ids, posts_ids)\n",
    "\n",
    "# Counting the number of common values\n",
    "num_common_ids = len(common_ids)\n",
    "\n",
    "print(\"Number of overlapping values:\", num_common_ids)"
   ]
  },
  {
   "cell_type": "code",
   "execution_count": 16,
   "id": "704a9139",
   "metadata": {},
   "outputs": [
    {
     "name": "stdout",
     "output_type": "stream",
     "text": [
      "<class 'pandas.core.frame.DataFrame'>\n",
      "Index: 2339 entries, o0pbq to f89sf\n",
      "Data columns (total 16 columns):\n",
      " #   Column                  Non-Null Count  Dtype \n",
      "---  ------                  --------------  ----- \n",
      " 0   timestamp               2339 non-null   object\n",
      " 1   text                    2339 non-null   object\n",
      " 2   speaker                 2339 non-null   object\n",
      " 3   reply_to                0 non-null      object\n",
      " 4   conversation_id         2339 non-null   object\n",
      " 5   meta.score              2339 non-null   object\n",
      " 6   meta.top_level_comment  0 non-null      object\n",
      " 7   meta.retrieved_on       2339 non-null   object\n",
      " 8   meta.gilded             2339 non-null   object\n",
      " 9   meta.gildings           213 non-null    object\n",
      " 10  meta.subreddit          2339 non-null   object\n",
      " 11  meta.stickied           2339 non-null   object\n",
      " 12  meta.permalink          2339 non-null   object\n",
      " 13  meta.author_flair_text  2339 non-null   object\n",
      " 14  meta.title              2339 non-null   object\n",
      " 15  meta.num_comments       2339 non-null   object\n",
      "dtypes: object(16)\n",
      "memory usage: 375.2+ KB\n"
     ]
    }
   ],
   "source": [
    "# Merge posts dataframe with convo_df on their indices using left join\n",
    "merged_posts = posts.merge(convo_df[['meta.title', 'meta.num_comments']], left_index=True, right_index=True, suffixes=('_posts', '_convo'), how='left')\n",
    "merged_posts.info()"
   ]
  },
  {
   "cell_type": "code",
   "execution_count": 17,
   "id": "b2e5a2f0",
   "metadata": {},
   "outputs": [],
   "source": [
    "merged_posts.rename(columns={'meta.title': 'title'}, inplace=True)\n",
    "merged_posts = merged_posts[['timestamp', 'title', 'text', 'speaker', 'reply_to', 'conversation_id',\n",
    "       'meta.score', 'meta.num_comments', 'meta.top_level_comment', 'meta.retrieved_on',\n",
    "       'meta.gilded', 'meta.gildings', 'meta.subreddit', 'meta.stickied',\n",
    "       'meta.permalink', 'meta.author_flair_text']]"
   ]
  },
  {
   "cell_type": "code",
   "execution_count": 18,
   "id": "3c56c1ef",
   "metadata": {},
   "outputs": [
    {
     "name": "stdout",
     "output_type": "stream",
     "text": [
      "<class 'pandas.core.frame.DataFrame'>\n",
      "Index: 2339 entries, o0pbq to f89sf\n",
      "Data columns (total 16 columns):\n",
      " #   Column                  Non-Null Count  Dtype \n",
      "---  ------                  --------------  ----- \n",
      " 0   timestamp               2339 non-null   object\n",
      " 1   title                   2339 non-null   object\n",
      " 2   text                    2339 non-null   object\n",
      " 3   speaker                 2339 non-null   object\n",
      " 4   reply_to                0 non-null      object\n",
      " 5   conversation_id         2339 non-null   object\n",
      " 6   meta.score              2339 non-null   object\n",
      " 7   meta.num_comments       2339 non-null   object\n",
      " 8   meta.top_level_comment  0 non-null      object\n",
      " 9   meta.retrieved_on       2339 non-null   object\n",
      " 10  meta.gilded             2339 non-null   object\n",
      " 11  meta.gildings           213 non-null    object\n",
      " 12  meta.subreddit          2339 non-null   object\n",
      " 13  meta.stickied           2339 non-null   object\n",
      " 14  meta.permalink          2339 non-null   object\n",
      " 15  meta.author_flair_text  2339 non-null   object\n",
      "dtypes: object(16)\n",
      "memory usage: 375.2+ KB\n"
     ]
    }
   ],
   "source": [
    "merged_posts.info()"
   ]
  },
  {
   "cell_type": "code",
   "execution_count": 19,
   "id": "3dd5f9ab",
   "metadata": {},
   "outputs": [
    {
     "data": {
      "text/html": [
       "<div>\n",
       "<style scoped>\n",
       "    .dataframe tbody tr th:only-of-type {\n",
       "        vertical-align: middle;\n",
       "    }\n",
       "\n",
       "    .dataframe tbody tr th {\n",
       "        vertical-align: top;\n",
       "    }\n",
       "\n",
       "    .dataframe thead th {\n",
       "        text-align: right;\n",
       "    }\n",
       "</style>\n",
       "<table border=\"1\" class=\"dataframe\">\n",
       "  <thead>\n",
       "    <tr style=\"text-align: right;\">\n",
       "      <th></th>\n",
       "      <th>timestamp</th>\n",
       "      <th>title</th>\n",
       "      <th>text</th>\n",
       "      <th>speaker</th>\n",
       "      <th>reply_to</th>\n",
       "      <th>conversation_id</th>\n",
       "      <th>meta.score</th>\n",
       "      <th>meta.num_comments</th>\n",
       "      <th>meta.top_level_comment</th>\n",
       "      <th>meta.retrieved_on</th>\n",
       "      <th>meta.gilded</th>\n",
       "      <th>meta.gildings</th>\n",
       "      <th>meta.subreddit</th>\n",
       "      <th>meta.stickied</th>\n",
       "      <th>meta.permalink</th>\n",
       "      <th>meta.author_flair_text</th>\n",
       "    </tr>\n",
       "    <tr>\n",
       "      <th>id</th>\n",
       "      <th></th>\n",
       "      <th></th>\n",
       "      <th></th>\n",
       "      <th></th>\n",
       "      <th></th>\n",
       "      <th></th>\n",
       "      <th></th>\n",
       "      <th></th>\n",
       "      <th></th>\n",
       "      <th></th>\n",
       "      <th></th>\n",
       "      <th></th>\n",
       "      <th></th>\n",
       "      <th></th>\n",
       "      <th></th>\n",
       "      <th></th>\n",
       "    </tr>\n",
       "  </thead>\n",
       "  <tbody>\n",
       "    <tr>\n",
       "      <th>o0pbq</th>\n",
       "      <td>1325565642</td>\n",
       "      <td>My coworker is in an abusive relationship, and...</td>\n",
       "      <td>My coworker is in an abusive relationship, and...</td>\n",
       "      <td>DVsKat</td>\n",
       "      <td>None</td>\n",
       "      <td>o0pbq</td>\n",
       "      <td>3</td>\n",
       "      <td>7</td>\n",
       "      <td>None</td>\n",
       "      <td>-1</td>\n",
       "      <td>-1</td>\n",
       "      <td>None</td>\n",
       "      <td>domesticviolence</td>\n",
       "      <td>False</td>\n",
       "      <td>/r/domesticviolence/comments/o0pbq/my_coworker...</td>\n",
       "      <td></td>\n",
       "    </tr>\n",
       "    <tr>\n",
       "      <th>ocpar</th>\n",
       "      <td>1326308957</td>\n",
       "      <td>Why can't I bring myself to leave?</td>\n",
       "      <td>Sorry if I ramble, I just feel Pike there is s...</td>\n",
       "      <td>dearlydistressedmmm</td>\n",
       "      <td>None</td>\n",
       "      <td>ocpar</td>\n",
       "      <td>7</td>\n",
       "      <td>12</td>\n",
       "      <td>None</td>\n",
       "      <td>-1</td>\n",
       "      <td>-1</td>\n",
       "      <td>None</td>\n",
       "      <td>domesticviolence</td>\n",
       "      <td>False</td>\n",
       "      <td>/r/domesticviolence/comments/ocpar/why_cant_i_...</td>\n",
       "      <td></td>\n",
       "    </tr>\n",
       "    <tr>\n",
       "      <th>onm6a</th>\n",
       "      <td>1326998843</td>\n",
       "      <td>My sister is in an abusive relationship and I ...</td>\n",
       "      <td>So I have been living with my sis for almost t...</td>\n",
       "      <td>[deleted]</td>\n",
       "      <td>None</td>\n",
       "      <td>onm6a</td>\n",
       "      <td>1</td>\n",
       "      <td>0</td>\n",
       "      <td>None</td>\n",
       "      <td>-1</td>\n",
       "      <td>-1</td>\n",
       "      <td>None</td>\n",
       "      <td>domesticviolence</td>\n",
       "      <td>False</td>\n",
       "      <td>/r/domesticviolence/comments/onm6a/my_sister_i...</td>\n",
       "      <td></td>\n",
       "    </tr>\n",
       "    <tr>\n",
       "      <th>or4tz</th>\n",
       "      <td>1327209584</td>\n",
       "      <td>Four years ago my gay best friend beat me up. ...</td>\n",
       "      <td>I was 22; I am now 26. I'm female. My gay best...</td>\n",
       "      <td>[deleted]</td>\n",
       "      <td>None</td>\n",
       "      <td>or4tz</td>\n",
       "      <td>11</td>\n",
       "      <td>3</td>\n",
       "      <td>None</td>\n",
       "      <td>-1</td>\n",
       "      <td>-1</td>\n",
       "      <td>None</td>\n",
       "      <td>domesticviolence</td>\n",
       "      <td>False</td>\n",
       "      <td>/r/domesticviolence/comments/or4tz/four_years_...</td>\n",
       "      <td></td>\n",
       "    </tr>\n",
       "    <tr>\n",
       "      <th>ot7hk</th>\n",
       "      <td>1327345546</td>\n",
       "      <td>Emotional abuse and blame</td>\n",
       "      <td>Currently in the middle on an intense situatio...</td>\n",
       "      <td>confusedorabused</td>\n",
       "      <td>None</td>\n",
       "      <td>ot7hk</td>\n",
       "      <td>3</td>\n",
       "      <td>6</td>\n",
       "      <td>None</td>\n",
       "      <td>-1</td>\n",
       "      <td>-1</td>\n",
       "      <td>None</td>\n",
       "      <td>domesticviolence</td>\n",
       "      <td>False</td>\n",
       "      <td>/r/domesticviolence/comments/ot7hk/emotional_a...</td>\n",
       "      <td></td>\n",
       "    </tr>\n",
       "  </tbody>\n",
       "</table>\n",
       "</div>"
      ],
      "text/plain": [
       "        timestamp                                              title  \\\n",
       "id                                                                     \n",
       "o0pbq  1325565642  My coworker is in an abusive relationship, and...   \n",
       "ocpar  1326308957                 Why can't I bring myself to leave?   \n",
       "onm6a  1326998843  My sister is in an abusive relationship and I ...   \n",
       "or4tz  1327209584  Four years ago my gay best friend beat me up. ...   \n",
       "ot7hk  1327345546                          Emotional abuse and blame   \n",
       "\n",
       "                                                    text              speaker  \\\n",
       "id                                                                              \n",
       "o0pbq  My coworker is in an abusive relationship, and...               DVsKat   \n",
       "ocpar  Sorry if I ramble, I just feel Pike there is s...  dearlydistressedmmm   \n",
       "onm6a  So I have been living with my sis for almost t...            [deleted]   \n",
       "or4tz  I was 22; I am now 26. I'm female. My gay best...            [deleted]   \n",
       "ot7hk  Currently in the middle on an intense situatio...     confusedorabused   \n",
       "\n",
       "      reply_to conversation_id meta.score meta.num_comments  \\\n",
       "id                                                            \n",
       "o0pbq     None           o0pbq          3                 7   \n",
       "ocpar     None           ocpar          7                12   \n",
       "onm6a     None           onm6a          1                 0   \n",
       "or4tz     None           or4tz         11                 3   \n",
       "ot7hk     None           ot7hk          3                 6   \n",
       "\n",
       "      meta.top_level_comment meta.retrieved_on meta.gilded meta.gildings  \\\n",
       "id                                                                         \n",
       "o0pbq                   None                -1          -1          None   \n",
       "ocpar                   None                -1          -1          None   \n",
       "onm6a                   None                -1          -1          None   \n",
       "or4tz                   None                -1          -1          None   \n",
       "ot7hk                   None                -1          -1          None   \n",
       "\n",
       "         meta.subreddit meta.stickied  \\\n",
       "id                                      \n",
       "o0pbq  domesticviolence         False   \n",
       "ocpar  domesticviolence         False   \n",
       "onm6a  domesticviolence         False   \n",
       "or4tz  domesticviolence         False   \n",
       "ot7hk  domesticviolence         False   \n",
       "\n",
       "                                          meta.permalink  \\\n",
       "id                                                         \n",
       "o0pbq  /r/domesticviolence/comments/o0pbq/my_coworker...   \n",
       "ocpar  /r/domesticviolence/comments/ocpar/why_cant_i_...   \n",
       "onm6a  /r/domesticviolence/comments/onm6a/my_sister_i...   \n",
       "or4tz  /r/domesticviolence/comments/or4tz/four_years_...   \n",
       "ot7hk  /r/domesticviolence/comments/ot7hk/emotional_a...   \n",
       "\n",
       "      meta.author_flair_text  \n",
       "id                            \n",
       "o0pbq                         \n",
       "ocpar                         \n",
       "onm6a                         \n",
       "or4tz                         \n",
       "ot7hk                         "
      ]
     },
     "execution_count": 19,
     "metadata": {},
     "output_type": "execute_result"
    }
   ],
   "source": [
    "merged_posts.head()"
   ]
  },
  {
   "cell_type": "code",
   "execution_count": 20,
   "id": "8f1696db",
   "metadata": {},
   "outputs": [],
   "source": [
    "merged_posts.to_csv('domesticviolence_posts.csv') \n",
    "comments.to_csv(\"domesticviolence_comments.csv\")"
   ]
  }
 ],
 "metadata": {
  "kernelspec": {
   "display_name": "Python 3 (ipykernel)",
   "language": "python",
   "name": "python3"
  },
  "language_info": {
   "codemirror_mode": {
    "name": "ipython",
    "version": 3
   },
   "file_extension": ".py",
   "mimetype": "text/x-python",
   "name": "python",
   "nbconvert_exporter": "python",
   "pygments_lexer": "ipython3",
   "version": "3.9.20"
  }
 },
 "nbformat": 4,
 "nbformat_minor": 5
}
