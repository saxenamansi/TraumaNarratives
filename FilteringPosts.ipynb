{
 "cells": [
  {
   "cell_type": "code",
   "execution_count": 1,
   "id": "e99dbb2b",
   "metadata": {},
   "outputs": [
    {
     "name": "stderr",
     "output_type": "stream",
     "text": [
      "[nltk_data] Downloading package stopwords to\n",
      "[nltk_data]     /Users/mansisaxena/nltk_data...\n",
      "[nltk_data]   Package stopwords is already up-to-date!\n"
     ]
    },
    {
     "data": {
      "text/plain": [
       "True"
      ]
     },
     "execution_count": 1,
     "metadata": {},
     "output_type": "execute_result"
    }
   ],
   "source": [
    "import pandas as pd\n",
    "import numpy as np\n",
    "import re\n",
    "from collections import Counter\n",
    "\n",
    "import nltk\n",
    "\n",
    "import warnings\n",
    "warnings.filterwarnings(\"ignore\")\n",
    "\n",
    "import string\n",
    "import nltk\n",
    "from nltk.corpus import stopwords\n",
    "\n",
    "# Ensure the required NLTK resources are downloaded\n",
    "nltk.download('stopwords')\n",
    "  "
   ]
  },
  {
   "cell_type": "code",
   "execution_count": 2,
   "id": "0b38e185",
   "metadata": {},
   "outputs": [],
   "source": [
    "DV_posts = pd.read_csv('domesticviolence_posts.csv') "
   ]
  },
  {
   "cell_type": "code",
   "execution_count": 3,
   "id": "56b115cd",
   "metadata": {},
   "outputs": [
    {
     "data": {
      "text/html": [
       "<div>\n",
       "<style scoped>\n",
       "    .dataframe tbody tr th:only-of-type {\n",
       "        vertical-align: middle;\n",
       "    }\n",
       "\n",
       "    .dataframe tbody tr th {\n",
       "        vertical-align: top;\n",
       "    }\n",
       "\n",
       "    .dataframe thead th {\n",
       "        text-align: right;\n",
       "    }\n",
       "</style>\n",
       "<table border=\"1\" class=\"dataframe\">\n",
       "  <thead>\n",
       "    <tr style=\"text-align: right;\">\n",
       "      <th></th>\n",
       "      <th>id</th>\n",
       "      <th>timestamp</th>\n",
       "      <th>title</th>\n",
       "      <th>text</th>\n",
       "      <th>speaker</th>\n",
       "      <th>reply_to</th>\n",
       "      <th>conversation_id</th>\n",
       "      <th>meta.score</th>\n",
       "      <th>meta.num_comments</th>\n",
       "      <th>meta.top_level_comment</th>\n",
       "      <th>meta.retrieved_on</th>\n",
       "      <th>meta.gilded</th>\n",
       "      <th>meta.gildings</th>\n",
       "      <th>meta.subreddit</th>\n",
       "      <th>meta.stickied</th>\n",
       "      <th>meta.permalink</th>\n",
       "      <th>meta.author_flair_text</th>\n",
       "    </tr>\n",
       "  </thead>\n",
       "  <tbody>\n",
       "    <tr>\n",
       "      <th>0</th>\n",
       "      <td>o0pbq</td>\n",
       "      <td>1325565642</td>\n",
       "      <td>My coworker is in an abusive relationship, and...</td>\n",
       "      <td>My coworker is in an abusive relationship, and...</td>\n",
       "      <td>DVsKat</td>\n",
       "      <td>NaN</td>\n",
       "      <td>o0pbq</td>\n",
       "      <td>3</td>\n",
       "      <td>7</td>\n",
       "      <td>NaN</td>\n",
       "      <td>-1</td>\n",
       "      <td>-1</td>\n",
       "      <td>NaN</td>\n",
       "      <td>domesticviolence</td>\n",
       "      <td>False</td>\n",
       "      <td>/r/domesticviolence/comments/o0pbq/my_coworker...</td>\n",
       "      <td>NaN</td>\n",
       "    </tr>\n",
       "    <tr>\n",
       "      <th>1</th>\n",
       "      <td>ocpar</td>\n",
       "      <td>1326308957</td>\n",
       "      <td>Why can't I bring myself to leave?</td>\n",
       "      <td>Sorry if I ramble, I just feel Pike there is s...</td>\n",
       "      <td>dearlydistressedmmm</td>\n",
       "      <td>NaN</td>\n",
       "      <td>ocpar</td>\n",
       "      <td>7</td>\n",
       "      <td>12</td>\n",
       "      <td>NaN</td>\n",
       "      <td>-1</td>\n",
       "      <td>-1</td>\n",
       "      <td>NaN</td>\n",
       "      <td>domesticviolence</td>\n",
       "      <td>False</td>\n",
       "      <td>/r/domesticviolence/comments/ocpar/why_cant_i_...</td>\n",
       "      <td>NaN</td>\n",
       "    </tr>\n",
       "    <tr>\n",
       "      <th>2</th>\n",
       "      <td>onm6a</td>\n",
       "      <td>1326998843</td>\n",
       "      <td>My sister is in an abusive relationship and I ...</td>\n",
       "      <td>So I have been living with my sis for almost t...</td>\n",
       "      <td>[deleted]</td>\n",
       "      <td>NaN</td>\n",
       "      <td>onm6a</td>\n",
       "      <td>1</td>\n",
       "      <td>0</td>\n",
       "      <td>NaN</td>\n",
       "      <td>-1</td>\n",
       "      <td>-1</td>\n",
       "      <td>NaN</td>\n",
       "      <td>domesticviolence</td>\n",
       "      <td>False</td>\n",
       "      <td>/r/domesticviolence/comments/onm6a/my_sister_i...</td>\n",
       "      <td>NaN</td>\n",
       "    </tr>\n",
       "    <tr>\n",
       "      <th>3</th>\n",
       "      <td>or4tz</td>\n",
       "      <td>1327209584</td>\n",
       "      <td>Four years ago my gay best friend beat me up. ...</td>\n",
       "      <td>I was 22; I am now 26. I'm female. My gay best...</td>\n",
       "      <td>[deleted]</td>\n",
       "      <td>NaN</td>\n",
       "      <td>or4tz</td>\n",
       "      <td>11</td>\n",
       "      <td>3</td>\n",
       "      <td>NaN</td>\n",
       "      <td>-1</td>\n",
       "      <td>-1</td>\n",
       "      <td>NaN</td>\n",
       "      <td>domesticviolence</td>\n",
       "      <td>False</td>\n",
       "      <td>/r/domesticviolence/comments/or4tz/four_years_...</td>\n",
       "      <td>NaN</td>\n",
       "    </tr>\n",
       "    <tr>\n",
       "      <th>4</th>\n",
       "      <td>ot7hk</td>\n",
       "      <td>1327345546</td>\n",
       "      <td>Emotional abuse and blame</td>\n",
       "      <td>Currently in the middle on an intense situatio...</td>\n",
       "      <td>confusedorabused</td>\n",
       "      <td>NaN</td>\n",
       "      <td>ot7hk</td>\n",
       "      <td>3</td>\n",
       "      <td>6</td>\n",
       "      <td>NaN</td>\n",
       "      <td>-1</td>\n",
       "      <td>-1</td>\n",
       "      <td>NaN</td>\n",
       "      <td>domesticviolence</td>\n",
       "      <td>False</td>\n",
       "      <td>/r/domesticviolence/comments/ot7hk/emotional_a...</td>\n",
       "      <td>NaN</td>\n",
       "    </tr>\n",
       "  </tbody>\n",
       "</table>\n",
       "</div>"
      ],
      "text/plain": [
       "      id   timestamp                                              title  \\\n",
       "0  o0pbq  1325565642  My coworker is in an abusive relationship, and...   \n",
       "1  ocpar  1326308957                 Why can't I bring myself to leave?   \n",
       "2  onm6a  1326998843  My sister is in an abusive relationship and I ...   \n",
       "3  or4tz  1327209584  Four years ago my gay best friend beat me up. ...   \n",
       "4  ot7hk  1327345546                          Emotional abuse and blame   \n",
       "\n",
       "                                                text              speaker  \\\n",
       "0  My coworker is in an abusive relationship, and...               DVsKat   \n",
       "1  Sorry if I ramble, I just feel Pike there is s...  dearlydistressedmmm   \n",
       "2  So I have been living with my sis for almost t...            [deleted]   \n",
       "3  I was 22; I am now 26. I'm female. My gay best...            [deleted]   \n",
       "4  Currently in the middle on an intense situatio...     confusedorabused   \n",
       "\n",
       "   reply_to conversation_id  meta.score  meta.num_comments  \\\n",
       "0       NaN           o0pbq           3                  7   \n",
       "1       NaN           ocpar           7                 12   \n",
       "2       NaN           onm6a           1                  0   \n",
       "3       NaN           or4tz          11                  3   \n",
       "4       NaN           ot7hk           3                  6   \n",
       "\n",
       "   meta.top_level_comment  meta.retrieved_on  meta.gilded meta.gildings  \\\n",
       "0                     NaN                 -1           -1           NaN   \n",
       "1                     NaN                 -1           -1           NaN   \n",
       "2                     NaN                 -1           -1           NaN   \n",
       "3                     NaN                 -1           -1           NaN   \n",
       "4                     NaN                 -1           -1           NaN   \n",
       "\n",
       "     meta.subreddit  meta.stickied  \\\n",
       "0  domesticviolence          False   \n",
       "1  domesticviolence          False   \n",
       "2  domesticviolence          False   \n",
       "3  domesticviolence          False   \n",
       "4  domesticviolence          False   \n",
       "\n",
       "                                      meta.permalink  meta.author_flair_text  \n",
       "0  /r/domesticviolence/comments/o0pbq/my_coworker...                     NaN  \n",
       "1  /r/domesticviolence/comments/ocpar/why_cant_i_...                     NaN  \n",
       "2  /r/domesticviolence/comments/onm6a/my_sister_i...                     NaN  \n",
       "3  /r/domesticviolence/comments/or4tz/four_years_...                     NaN  \n",
       "4  /r/domesticviolence/comments/ot7hk/emotional_a...                     NaN  "
      ]
     },
     "execution_count": 3,
     "metadata": {},
     "output_type": "execute_result"
    }
   ],
   "source": [
    "DV_posts.head()"
   ]
  },
  {
   "cell_type": "markdown",
   "id": "a3659d05",
   "metadata": {},
   "source": [
    "## Preprocessing"
   ]
  },
  {
   "cell_type": "code",
   "execution_count": 4,
   "id": "6eddc24a",
   "metadata": {},
   "outputs": [],
   "source": [
    "def preprocess_text(text):\n",
    "\n",
    "    # Step 1: Remove punctuation\n",
    "    text = text.translate(str.maketrans('', '', string.punctuation))\n",
    "    \n",
    "    # Step 2: Convert to lowercase\n",
    "    text = text.lower()\n",
    "    \n",
    "    # Step 3: Remove numbers and nearby 'M', 'F', 'm', 'f', 'male', or 'female' with up to 2 additional characters\n",
    "    text = re.sub(r'(male|female|[mf])?\\d+(male|female|[mf])?', '', text, flags=re.IGNORECASE)\n",
    "    \n",
    "    # Step 4: Replace double spaces with single spaces\n",
    "    text = re.sub(r'\\s+', ' ', text).strip()\n",
    "    \n",
    "    return text"
   ]
  },
  {
   "cell_type": "code",
   "execution_count": 5,
   "id": "e034cde2",
   "metadata": {},
   "outputs": [],
   "source": [
    "DV_posts['processed_title'] = DV_posts['title'].apply(preprocess_text)\n",
    "DV_posts['processed_text'] = DV_posts['text'].apply(preprocess_text)\n"
   ]
  },
  {
   "cell_type": "code",
   "execution_count": 6,
   "id": "86fd2db6",
   "metadata": {},
   "outputs": [],
   "source": [
    "# relevant_df['processed_text'].to_list()"
   ]
  },
  {
   "cell_type": "markdown",
   "id": "84c7d49c",
   "metadata": {},
   "source": [
    "## First heuristic - titles with 1st person personal pronoun"
   ]
  },
  {
   "cell_type": "code",
   "execution_count": 7,
   "id": "42adacbb",
   "metadata": {},
   "outputs": [],
   "source": [
    "# Use regular expression to match whole words only\n",
    "\n",
    "def contains_firstperson_personalpronouns(text):\n",
    "    return bool(re.search(r'\\b(me|mine|myself|im|ive)\\b', text))"
   ]
  },
  {
   "cell_type": "code",
   "execution_count": 8,
   "id": "51e48e0a",
   "metadata": {},
   "outputs": [],
   "source": [
    "# Iterate through each row in df['preprocess_title']\n",
    "\n",
    "relevant_indices1 = []\n",
    "\n",
    "for index, row in DV_posts.iterrows():\n",
    "    title = row['processed_title']\n",
    "    if contains_firstperson_personalpronouns(title):\n",
    "        relevant_indices1.append(index)\n",
    "        \n"
   ]
  },
  {
   "cell_type": "code",
   "execution_count": 9,
   "id": "38b8deb1",
   "metadata": {},
   "outputs": [
    {
     "name": "stdout",
     "output_type": "stream",
     "text": [
      "439\n"
     ]
    }
   ],
   "source": [
    "print(len(relevant_indices1))\n",
    "\n",
    "relevant_df = DV_posts.loc[relevant_indices1].reset_index(drop=True)"
   ]
  },
  {
   "cell_type": "code",
   "execution_count": 10,
   "id": "4fe5d51a",
   "metadata": {},
   "outputs": [],
   "source": [
    "# irrelevant_df = DV_posts.loc[~DV_posts.index.isin(relevant_indices1)]\n",
    "# irrelevant_df.to_csv('ProcessedDownloadedData/domesticviolence/irrelevant.csv', index=False) "
   ]
  },
  {
   "cell_type": "markdown",
   "id": "07da8e0d",
   "metadata": {},
   "source": [
    "## Second heuristic"
   ]
  },
  {
   "cell_type": "code",
   "execution_count": 11,
   "id": "c3013d91",
   "metadata": {},
   "outputs": [],
   "source": [
    "from nltk.stem import WordNetLemmatizer\n",
    "\n",
    "# Function to identify words that occur after the word \"my\" and convert them to their base form\n",
    "def identify_personal_possessive_phrases(text):\n",
    "\n",
    "    # Find matches for 'my <word>'\n",
    "    matches = re.findall(r'\\bmy\\s+(\\w+)\\b', text, flags=re.IGNORECASE)\n",
    "    \n",
    "    # Initialize the lemmatizer\n",
    "    lemmatizer = WordNetLemmatizer()\n",
    "    \n",
    "    # Lemmatize each match\n",
    "    lemmatized_matches = [lemmatizer.lemmatize(match.lower()) for match in matches]\n",
    "    \n",
    "    return lemmatized_matches\n",
    "\n",
    "DV_posts['PPPr_title'] = DV_posts['processed_title'].apply(identify_personal_possessive_phrases)"
   ]
  },
  {
   "cell_type": "code",
   "execution_count": 12,
   "id": "ff3b4443",
   "metadata": {},
   "outputs": [
    {
     "data": {
      "text/plain": [
       "0           [coworker]\n",
       "1                   []\n",
       "2             [sister]\n",
       "3        [gay, friend]\n",
       "4                   []\n",
       "             ...      \n",
       "2334                []\n",
       "2335          [abuser]\n",
       "2336    [relationship]\n",
       "2337                []\n",
       "2338                []\n",
       "Name: PPPr_title, Length: 2339, dtype: object"
      ]
     },
     "execution_count": 12,
     "metadata": {},
     "output_type": "execute_result"
    }
   ],
   "source": [
    "DV_posts['PPPr_title']"
   ]
  },
  {
   "cell_type": "code",
   "execution_count": 13,
   "id": "b0499681",
   "metadata": {},
   "outputs": [],
   "source": [
    "flattened_list = [item for sublist in DV_posts['PPPr_title'].to_list() for item in sublist]"
   ]
  },
  {
   "cell_type": "code",
   "execution_count": 14,
   "id": "d75deb36",
   "metadata": {},
   "outputs": [],
   "source": [
    "word_counter = Counter(flattened_list)\n",
    "freq = sorted(word_counter.items(), key=lambda x: x[1], reverse=True)\n",
    "\n",
    "string = \"\"\n",
    "\n",
    "for word, _ in freq:\n",
    "    string = string + \" \" + word"
   ]
  },
  {
   "cell_type": "code",
   "execution_count": 15,
   "id": "61c9b1fd",
   "metadata": {},
   "outputs": [],
   "source": [
    "matches = \"\"\" boyfriend abusive husband abuser ex mother mom father story girlfriend dad life gf family bf head partner \n",
    "wife mum daughter son chest fiancé therapist motherinlaw violent sanity phone abuse relationship name \n",
    "grandfather hair verbally younger fault car assault current exgf breaking stepfather exhusbands place\n",
    "emotionally support situation bofriend physically yr physical option doubt mentally childhood exboyfriendabuser exlover \n",
    "job instinct abused weirdly birthday grandmother real victim young narcissistic dog stepdad \n",
    "last future room landlord pastpresent limit spouse split fear year violently \n",
    "mind face fathersame sick exgirlfriend bedroom tie case kid sleep office permission thing once\n",
    "trust neck exhusband dream campus throw psych child work past miserable house domestic self nook \n",
    "binge trauma confidence man narcassist ptsd fiance open \"\"\"\n",
    "\n",
    "\n",
    "relevant_matches = matches.split()"
   ]
  },
  {
   "cell_type": "code",
   "execution_count": 1,
   "id": "53d363c5",
   "metadata": {},
   "outputs": [],
   "source": [
    "# relevant_matches"
   ]
  },
  {
   "cell_type": "code",
   "execution_count": 17,
   "id": "528a2cf4",
   "metadata": {},
   "outputs": [],
   "source": [
    "relevant_indices2 = []\n",
    "irrelevant_indices2 = []\n",
    "\n",
    "# Iterate through each row in df['Personal_Possessive']\n",
    "for index, row in DV_posts.iterrows():\n",
    "    PPPr_row = row['PPPr_title']\n",
    "    if not PPPr_row:  # If there are no matches, add the row to irrelevant\n",
    "        irrelevant_indices2.append(index)\n",
    "        continue\n",
    "    \n",
    "    for word in PPPr_row:\n",
    "        if word in relevant_matches:\n",
    "            relevant_indices2.append(index)\n",
    "        else:\n",
    "            irrelevant_indices2.append(index)   \n"
   ]
  },
  {
   "cell_type": "code",
   "execution_count": 18,
   "id": "0a5baf9a",
   "metadata": {},
   "outputs": [
    {
     "data": {
      "text/plain": [
       "(497, 1927)"
      ]
     },
     "execution_count": 18,
     "metadata": {},
     "output_type": "execute_result"
    }
   ],
   "source": [
    "len(relevant_indices2), len(irrelevant_indices2)"
   ]
  },
  {
   "cell_type": "markdown",
   "id": "406416c2",
   "metadata": {},
   "source": [
    "## Combining the relevant indices and saving to DataFrames"
   ]
  },
  {
   "cell_type": "code",
   "execution_count": 19,
   "id": "b939102b",
   "metadata": {},
   "outputs": [],
   "source": [
    "# Convert lists to sets\n",
    "set1 = set(relevant_indices1)\n",
    "set2 = set(relevant_indices2)\n",
    "\n",
    "# Merge sets and convert back to a list\n",
    "merged_relevant_indices = list(set1.union(set2))"
   ]
  },
  {
   "cell_type": "code",
   "execution_count": 20,
   "id": "3092e3a5",
   "metadata": {},
   "outputs": [
    {
     "data": {
      "text/plain": [
       "710"
      ]
     },
     "execution_count": 20,
     "metadata": {},
     "output_type": "execute_result"
    }
   ],
   "source": [
    "len(merged_relevant_indices)"
   ]
  },
  {
   "cell_type": "code",
   "execution_count": 21,
   "id": "788d330b",
   "metadata": {},
   "outputs": [],
   "source": [
    "# Create new dataframes\n",
    "relevant_df = DV_posts.loc[merged_relevant_indices].reset_index(drop=True)\n",
    "irrelevant_df = DV_posts.loc[~DV_posts.index.isin(merged_relevant_indices)]"
   ]
  },
  {
   "cell_type": "code",
   "execution_count": 22,
   "id": "2cc96857",
   "metadata": {},
   "outputs": [],
   "source": [
    "relevant_df.to_csv('domesticviolence_relevant.csv', index=False) \n",
    "irrelevant_df.to_csv('domesticviolence_irrelevant.csv', index=False) \n"
   ]
  },
  {
   "cell_type": "code",
   "execution_count": 23,
   "id": "0fba32bd",
   "metadata": {},
   "outputs": [
    {
     "data": {
      "text/plain": [
       "(710, 1629)"
      ]
     },
     "execution_count": 23,
     "metadata": {},
     "output_type": "execute_result"
    }
   ],
   "source": [
    "len(relevant_df), len(irrelevant_df)"
   ]
  }
 ],
 "metadata": {
  "kernelspec": {
   "display_name": "Python 3 (ipykernel)",
   "language": "python",
   "name": "python3"
  },
  "language_info": {
   "codemirror_mode": {
    "name": "ipython",
    "version": 3
   },
   "file_extension": ".py",
   "mimetype": "text/x-python",
   "name": "python",
   "nbconvert_exporter": "python",
   "pygments_lexer": "ipython3",
   "version": "3.9.20"
  }
 },
 "nbformat": 4,
 "nbformat_minor": 5
}
