{
 "cells": [
  {
   "cell_type": "code",
   "execution_count": null,
   "id": "3f21c844-78e8-4bf1-aadc-328324e27101",
   "metadata": {},
   "outputs": [],
   "source": [
    "import pandas as pd\n",
    "import numpy as np\n",
    "import sys\n",
    "import os\n",
    "\n",
    "import ast\n",
    "import random\n",
    "\n",
    "import transformers\n",
    "from transformers import set_seed\n",
    "\n",
    "import torch\n",
    "\n",
    "import json\n",
    "import re"
   ]
  },
  {
   "cell_type": "code",
   "execution_count": null,
   "id": "dc74caa0-4121-447a-840b-2299eafdf037",
   "metadata": {},
   "outputs": [],
   "source": [
    "# Set random seed for reproducibility\n",
    "random_seed = 42\n",
    "torch.manual_seed(random_seed)\n",
    "random.seed(random_seed)\n",
    "\n",
    "set_seed(random_seed)"
   ]
  },
  {
   "cell_type": "code",
   "execution_count": null,
   "id": "8789b4d6-1a86-446c-83d3-08b7a60949ba",
   "metadata": {},
   "outputs": [],
   "source": [
    "model_id = \"meta-llama/Llama-3.1-8B-Instruct\"\n",
    "\n",
    "pipeline = transformers.pipeline(\n",
    "    \"text-generation\",\n",
    "    model=model_id,\n",
    "    device=\"cuda:0\",\n",
    ")"
   ]
  },
  {
   "cell_type": "code",
   "execution_count": null,
   "id": "13f68b07-d896-4f32-86f6-59c3e9da46e8",
   "metadata": {},
   "outputs": [],
   "source": [
    "df = pd.read_csv('Reddit_DVSV_Data.csv', index_col = 0)"
   ]
  },
  {
   "cell_type": "code",
   "execution_count": null,
   "id": "c85dae54-d23f-44eb-aca8-cebe9377da43",
   "metadata": {},
   "outputs": [],
   "source": [
    "df['content'] = df['title'] + df['text']\n",
    "content_list = df['content'].to_list()"
   ]
  },
  {
   "cell_type": "code",
   "execution_count": null,
   "id": "26d28cc3-f592-4f9d-add9-d59cff9ce3d7",
   "metadata": {},
   "outputs": [],
   "source": [
    "output_dir = \"Output\"\n",
    "if not os.path.exists(output_dir):\n",
    "    os.makedirs(output_dir)\n",
    "\n",
    "def create_folder(feature):\n",
    "    feat_dir = os.path.join(output_dir, f'{feature}')\n",
    "    if not os.path.exists(feat_dir):\n",
    "        os.makedirs(feat_dir)\n",
    "    print(f'Created folder {feature}')                       \n",
    "\n",
    "features = ['Relationship', 'Location', 'Environment', 'Pattern', 'SelfBlame', 'Abuser', 'Characters',\n",
    "            'AbuseType', 'Coping', 'Intent', 'Impact']\n",
    "\n",
    "for feature in features:\n",
    "    create_folder(feature)"
   ]
  },
  {
   "cell_type": "markdown",
   "id": "81ee5021-8771-4a6c-9e9a-cb7ec2e06166",
   "metadata": {},
   "source": [
    "## Prompting"
   ]
  },
  {
   "cell_type": "code",
   "execution_count": null,
   "id": "d9ccd1fa-e7f2-493b-bec9-2ce4cb837e27",
   "metadata": {},
   "outputs": [],
   "source": [
    "def process_post(input_system, input_task, reddit_post):\n",
    "    messages = [\n",
    "        {\"role\": \"system\", \"content\": input_system},\n",
    "        {\"role\": \"victim\", \"content\": input_task + reddit_post},\n",
    "    ]\n",
    "\n",
    "    outputs = pipeline(\n",
    "        messages, num_beams=1, do_sample=True, max_new_tokens=1024, temperature = 0.9,\n",
    "        pad_token_id = pipeline.tokenizer.eos_token_id\n",
    "    )\n",
    "    \n",
    "    output = outputs[0][\"generated_text\"][-1]\n",
    "\n",
    "    return output"
   ]
  },
  {
   "cell_type": "code",
   "execution_count": null,
   "id": "03510986-71c8-4140-aa9f-7d344f819c6d",
   "metadata": {},
   "outputs": [],
   "source": [
    "def process_batches(input_dataset, input_list, feature, feat_path, input_system, input_task, fname, start_idx = 0, batch_size = 10000):\n",
    "    \n",
    "    for batch_start in range(start_idx, len(input_list), batch_size):\n",
    "        data = {'Title': [], 'Text': [], feature : []}\n",
    "        batch_end = min(batch_start + batch_size, len(input_list))\n",
    "        print(\"Processing batch:\", batch_start, batch_end)\n",
    "        batch = input_list[batch_start:batch_end]\n",
    "\n",
    "        for i, content in enumerate(batch):\n",
    "            attempts = 0\n",
    "            success = False\n",
    "\n",
    "            while attempts < 4 and not success:\n",
    "                try:\n",
    "                    output = process_post(input_system, input_task, content)\n",
    "                    content.replace(\"'\", \"\\\\'\")\n",
    "                    content = re.sub(r'(\\}.*)', r'}', content)\n",
    "                    \n",
    "                    result = ast.literal_eval(output['content'])[feature]\n",
    "                    success = True  # Mark as successful if no exception\n",
    "                except Exception as e:\n",
    "                    print(f\"Attempt {attempts + 1} failed for post {batch_start + i}: {e}\")\n",
    "                    result = output['content']\n",
    "                    attempts += 1\n",
    "    \n",
    "            data['Title'].append(input_dataset['title'].iloc[batch_start + i])\n",
    "            data['Text'].append(input_dataset['text'].iloc[batch_start + i])\n",
    "            data[feature].append(result)\n",
    "            \n",
    "        batch_df = pd.DataFrame(data)\n",
    "        batch_filename = f\"Output/{feat_path}/{batch_start}_{batch_end}{fname}.csv\"\n",
    "        batch_df.to_csv(batch_filename, index=False)\n",
    "        print(f\"Batch {batch_start}_{batch_end} processed and saved to {batch_filename}\")"
   ]
  },
  {
   "cell_type": "markdown",
   "id": "cca74500-849a-4682-ae16-1382157059ed",
   "metadata": {
    "jp-MarkdownHeadingCollapsed": true
   },
   "source": [
    "## Relationship Feature Extraction"
   ]
  },
  {
   "cell_type": "code",
   "execution_count": null,
   "id": "a90fc469-c75d-47f5-81bc-b5f6b9dcc842",
   "metadata": {},
   "outputs": [],
   "source": [
    "intimate_partner_input_system = (\n",
    "    \"You are an expert NLP model specialized in analyzing trauma narratives related to sexual violence on social media platforms. \"\n",
    "    \"Your goal is to determine whether the perpetrator (the person responsible for the harm) is an intimate partner of the victim (the person harmed). \"\n",
    ")\n",
    "\n",
    "intimate_partner_task = (\n",
    "    \"Analyze the following trauma narrative and determine whether the perpetrator is an intimate partner of the victim. \"\n",
    "    \"An intimate partner is someone with whom the victim has or had a close personal relationship involving emotional connection, regular interaction, and potentially romantic, sexual, or cohabiting aspects. \"\n",
    "    \"This includes current or former spouses, romantic or sexual partners, and individuals in a dating relationship, regardless of legal status, gender, or duration. \"\n",
    "    \"Consider only information explicitly stated in the post. Avoid making assumptions or inferences.\"\n",
    "    \"Return the result strictly in the following format: \\n\" \n",
    "    '''{\"IntimatePartner\": \"Yes/No\"}'''\n",
    "    \"Return only this format with no additional text, explanations, or options. Do not provide any other output. Below is the input text: \"\n",
    ")\n",
    "\n",
    "process_batches(df, content_list, 'IntimatePartner', 'Relationship', intimate_partner_input_system, intimate_partner_task, 'IntimatePartner', batch_size = 1000)\n"
   ]
  },
  {
   "cell_type": "code",
   "execution_count": null,
   "id": "94fee86a-a581-4d42-a599-2c079d6c4ad7",
   "metadata": {},
   "outputs": [],
   "source": [
    "family_member_input_system = (\n",
    "    \"You are an expert NLP model specialized in analyzing trauma narratives related to sexual violence on social media platforms. \"\n",
    "    \"Your goal is to determine whether the perpetrator (the person responsible for the harm) is a family member of the victim (the person harmed).\"\n",
    ")\n",
    "\n",
    "family_member_task = (\n",
    "    \"Analyze the following trauma narrative and determine whether the perpetrator is a family member of the victim. \"\n",
    "    \"A family member includes relatives by blood, marriage, adoption, or guardianship, such as parents, children, siblings, grandparents, aunts, uncles, cousins, and in-laws. \"\n",
    "    \"It also includes step-relatives, foster family members, and partners of family members (e.g., an aunt’s spouse or cousin’s partner). \"\n",
    "    \"Consider only information explicitly stated in the post. Avoid making assumptions or inferences.\"\n",
    "    \"Return the result strictly in the following format: \\n\" \n",
    "    '''{\"FamilyMember\": \"Yes/No\"}'''\n",
    "    \"Return only this format with no additional text, explanations, or options. Do not provide any other output. Below is the input text: \"\n",
    ")\n",
    "\n",
    "process_batches(df, content_list, 'FamilyMember', 'Relationship', family_member_input_system, family_member_task, 'FamilyMember', batch_size=1000)\n"
   ]
  },
  {
   "cell_type": "code",
   "execution_count": null,
   "id": "871480b2-abf3-49e0-aa3b-955e161405a1",
   "metadata": {},
   "outputs": [],
   "source": [
    "close_friend_input_system = (\n",
    "    \"You are an expert NLP model specialized in analyzing trauma narratives related to sexual violence on social media platforms. \"\n",
    "    \"Your goal is to determine whether the perpetrator (the person responsible for the harm) is a close friend of the victim (the person harmed).\"\n",
    ")\n",
    "\n",
    "close_friend_task = (\n",
    "    \"Your task is to analyze the following trauma narrative and determine whether the perpetrator is a close friend of the victim. \"\n",
    "    \"A close friend is someone with whom the victim shares a deep, trusting bond, provides emotional support, communicates meaningfully, and spends quality time. \"\n",
    "    \"Consider only information explicitly stated in the post. Avoid making assumptions or inferences.\"\n",
    "    \"Format your output as follows: \\n\" \n",
    "    '''{\"CloseFriend\": \"Yes/No\"}'''\n",
    "    \"Return only this format with no additional text, explanations, or options. Do not provide any other output. Below is the input text: \"\n",
    ")\n",
    "\n",
    "process_batches(df, content_list, 'CloseFriend', 'Relationship', close_friend_input_system, close_friend_task, 'CloseFriend', batch_size = 1000)\n",
    "\n"
   ]
  },
  {
   "cell_type": "code",
   "execution_count": null,
   "id": "af4c90cc-2695-47a5-9291-703416d14bfe",
   "metadata": {},
   "outputs": [],
   "source": [
    "colleague_input_system = (\n",
    "    \"You are an expert NLP model specialized in analyzing trauma narratives related to sexual violence on social media platforms. \"\n",
    "    \"Your goal is to determine whether the perpetrator (the person responsible for the harm) is either a colleague or classmate of the victim (the person harmed).\"\n",
    ")\n",
    "\n",
    "colleague_task = (\n",
    "    \"Your task is to analyze the following trauma narrative and determine whether the perpetrator is either a colleague or classmate of the victim. \"\n",
    "    \"A colleague is someone with whom the victim works in a professional setting, such as an office, business, or other workplace. \"\n",
    "    \"A classmate is someone who attends the same school, college, or academic program as the victim. \"\n",
    "    \"Consider only information explicitly stated in the post. Avoid making assumptions or inferences.\" \n",
    "    \"Format your output as follows: \\n\" \n",
    "    '''{\"Colleague\": \"Yes/No\"}'''\n",
    "    \"Return only this format with no additional text, explanations, or options. Do not provide any other output. Below is the input text: \"\n",
    ")\n",
    "\n",
    "process_batches(df, content_list, 'Colleague', 'Relationship', colleague_input_system, colleague_task, 'Colleague', batch_size = 1000)\n",
    "\n"
   ]
  },
  {
   "cell_type": "code",
   "execution_count": null,
   "id": "20387d7a-f488-44d9-adf9-fe289225aefa",
   "metadata": {},
   "outputs": [],
   "source": [
    "authority_fig_input_system = (\n",
    "    \"You are an expert NLP model specialized in analyzing trauma narratives related to sexual violence on social media platforms. \"\n",
    "    \"Your goal is to identify whether the perpetrator holds a position of authority or influence over the victim in a professional, institutional, or societal context.\"\n",
    ")\n",
    "\n",
    "authority_fig_task = (\n",
    "    \"Your task is to analyze the following trauma narrative and determine whether the perpetrator is an authority figure of the victim. \"\n",
    "    \"An authority figure is an individual who holds power or influence over another person in any capacity, whether professional or societal. \"\n",
    "    \"This includes roles such as supervisors, teachers, managers, police officers, government officials, or community leaders, who can enforce rules, make decisions, or provide guidance. \"\n",
    "    \"Important: This does NOT include intimate partners or family members, even if they may have power over the victim. \"\n",
    "    \"Consider only information explicitly stated in the post. Avoid making assumptions or inferences.\\n\"\n",
    "    \"Format your output as follows: \\n\"\n",
    "    '''{\"AuthorityFigure\": \"Yes/No\"}'''\n",
    "    \"Return only this format with no additional text, explanations, or options. Do not provide any other output. Below is the input text: \"\n",
    ")\n",
    "\n",
    "process_batches(df, content_list, 'AuthorityFigure', 'Relationship', authority_fig_input_system, authority_fig_task, 'AuthorityFigure', batch_size=1000)\n"
   ]
  },
  {
   "cell_type": "code",
   "execution_count": null,
   "id": "b93d09d7-4dd0-4f15-9db0-e52f6886151c",
   "metadata": {},
   "outputs": [],
   "source": [
    "stranger_input_system = (\n",
    "    \"You are an expert NLP model specialized in analyzing trauma narratives related to sexual violence on social media platforms. \"\n",
    "    \"Your goal is to identify if the perpetrator (the person responsible for the harm) is a stranger to the victim (the person harmed).\"\n",
    ")\n",
    "\n",
    "\n",
    "stranger_task = (\n",
    "    \"Your task is to analyze the following trauma narrative and determine whether the perpetrator is a stranger to the victim. \"\n",
    "    \"A stranger is someone with whom the victim has no prior personal relationship and no direct interaction before the incident. \"\n",
    "    \"Important: The victim should not have any relation with the perpetrator. Exclude cases where the perpetrator is not mentioned. \"\n",
    "    \"Consider only information explicitly stated in the post. Avoid making assumptions or inferences.\" \n",
    "    \"Format your output as follows: \\n\" \n",
    "    '''{\"Stranger\": \"Yes/No\"}'''\n",
    "    \"Return only this format with no additional text, explanations, or options. Do not provide any other output. Below is the input text: \"\n",
    ")\n",
    "\n",
    "process_batches(df, content_list, 'Stranger', 'Relationship', stranger_input_system, stranger_task, 'Stranger', batch_size = 1000)\n"
   ]
  },
  {
   "cell_type": "markdown",
   "id": "dd298353-57fd-4712-a411-70cbb4618279",
   "metadata": {
    "jp-MarkdownHeadingCollapsed": true
   },
   "source": [
    "## Location Feature Extraction"
   ]
  },
  {
   "cell_type": "code",
   "execution_count": null,
   "id": "a6bdfc44-208e-4326-b00f-f8fffa3dc4ef",
   "metadata": {},
   "outputs": [],
   "source": [
    "domestic_input_system = (\n",
    "    \"You are an expert NLP model specialized in analyzing trauma narratives related to sexual violence on social media platforms. \"\n",
    "    \"Your goal is to determine whether the violence inflicted by the perpetrator on the victim occurred in a domestic space.\"\n",
    ")\n",
    "\n",
    "domestic_task = (\n",
    "    \"Your task is to analyze the following text and identify if the violence inflicted by the perpetrator on the victim occurred in a domestic space. \"\n",
    "    \"Domestic spaces are private living environments, such as homes, apartments, and residential areas, where individuals typically reside. \"\n",
    "    \"Important: This does NOT include social gatherings occuring in residential areas. \"\n",
    "    \"Consider only information explicitly available in the text and avoid making assumptions or inferences. \"\n",
    "    \"Format your output as follows: \"\n",
    "    '''{\"Domestic\": \"Yes/No\"}'''\n",
    "    \"Return only this format with no additional text, explanations, or options. Do not provide any other output. Below is the input text: \"\n",
    ")\n",
    "\n",
    "process_batches(df, content_list, 'Domestic', 'Location', domestic_input_system, domestic_task, 'Domestic', batch_size=1000)\n"
   ]
  },
  {
   "cell_type": "code",
   "execution_count": null,
   "id": "68a5f51c-faff-4af8-80f5-1453ce66e10d",
   "metadata": {},
   "outputs": [],
   "source": [
    "social_input_system = (\n",
    "    \"You are an expert NLP model specialized in analyzing trauma narratives related to sexual violence on social media platforms. \"\n",
    "    \"Your goal is to determine whether the violence inflicted by the perpetrator on the victim occurred in a social space.\"\n",
    ")\n",
    "\n",
    "social_task = (\n",
    "    \"Your task is to analyze the following text and identify if the violence inflicted by the perpetrator (person causing harm) on the victim (person harmed) occurred in a social space. \"\n",
    "    \"Social spaces are recreational settings where people gather for leisure and entertainment, such as bars, clubs, parties, and gyms. \"\n",
    "    \"Consider only information explicitly available in the text and avoid making assumptions or inferences. \"\n",
    "    \"Format your output as follows: \"\n",
    "    '''{\"Social\": \"Yes/No\"}'''\n",
    "    \"Return only this format with no additional text, explanations, or options. Do not provide any other output. Below is the input text: \"\n",
    ")\n",
    "\n",
    "process_batches(df, content_list, 'Social', 'Location', social_input_system, social_task, 'Social', batch_size=1000)\n"
   ]
  },
  {
   "cell_type": "code",
   "execution_count": null,
   "id": "f31c2dbb-7420-43fe-ae01-1b099e14458e",
   "metadata": {},
   "outputs": [],
   "source": [
    "professional_input_system = (\n",
    "    \"You are an expert NLP model specialized in analyzing trauma narratives related to sexual violence on social media platforms. \"\n",
    "    \"Your goal is to determine whether the violence inflicted by the perpetrator on the victim occurred in a professional space.\"\n",
    ")\n",
    "\n",
    "professional_task = (\n",
    "    \"Your task is to analyze the following text and identify if the violence inflicted by the perpetrator (person causing harm) on the victim (person harmed) occurred in a professional space. \"\n",
    "    \"Professional spaces are environments associated with work or education, such as offices, schools, and colleges, where individuals engage in career or academic activities. \"\n",
    "    \"Consider only information explicitly available in the text and avoid making assumptions or inferences. \"\n",
    "    \"Format your output as follows: \"\n",
    "    '''{\"Professional\": \"Yes/No\"}'''\n",
    "    \"Return only this format with no additional text, explanations, or options. Do not provide any other output. Below is the input text: \"\n",
    ")\n",
    "\n",
    "process_batches(df, content_list, 'Professional', 'Location', professional_input_system, professional_task, 'Professional', batch_size=1000)\n"
   ]
  },
  {
   "cell_type": "code",
   "execution_count": null,
   "id": "e4f33dbb-082d-4304-9c4b-2aa7efa5d765",
   "metadata": {},
   "outputs": [],
   "source": [
    "public_input_system = (\n",
    "    \"You are an expert NLP model specialized in analyzing trauma narratives related to sexual violence on social media platforms. \"\n",
    "    \"Your goal is to determine whether the violence inflicted by the perpetrator on the victim occurred in a public space.\"\n",
    ")\n",
    "\n",
    "public_task = (\n",
    "    \"Your task is to analyze the following text and identify if the violence inflicted by the perpetrator (person causing harm) on the victim (person harmed) occurred in a public space. \"\n",
    "    \"Public spaces are open and accessible areas available to the general public, such as streets, parks, shopping centers, and public transportation hubs. \"\n",
    "    \"Consider only information explicitly available in the text and avoid making assumptions or inferences. \"\n",
    "    \"Format your output as follows: \"\n",
    "    '''{\"Public\": \"Yes/No\"}'''\n",
    "    \"Return only this format with no additional text, explanations, or options. Do not provide any other output. Below is the input text: \"\n",
    ")\n",
    "\n",
    "process_batches(df, content_list, 'Public', 'Location', public_input_system, public_task, 'Public', batch_size=1000)\n"
   ]
  },
  {
   "cell_type": "code",
   "execution_count": null,
   "id": "586c31be-c48d-47b3-b9f0-7a46ccc718a6",
   "metadata": {},
   "outputs": [],
   "source": [
    "cyber_input_system = (\n",
    "    \"You are an expert NLP model specialized in analyzing trauma narratives related to sexual violence on social media platforms. \"\n",
    "    \"Your goal is to determine whether the violence inflicted by the perpetrator on the victim occurred in a cyber space. \"\n",
    ")\n",
    "\n",
    "cyber_task = (\n",
    "    \"Your task is to analyze the following text and identify if the violence inflicted by the perpetrator (person causing harm) on the victim (person harmed) occurred in a cyber space. \"\n",
    "    \"Cyber spaces are virtual environments where online interactions and activities take place, such as websites, social media, and digital platforms. \"\n",
    "    \"Examples of violence in cyber spaces include but are not limited to: cyberbullying, online stalking, revenge porn, doxxing, sending threatening or explicit messages, sending uncomfortable images or links, coercing someone into sending nudes, harassment on social media platforms, abusive behavior in online forums, sharing private or explicit content without consent, impersonating someone online, gaslighting, and spreading rumors or false information. \"\n",
    "    \"Additionally, harassment can include sending unsolicited messages, creating fake profiles for manipulation, trolling, and attempting to isolate or intimidate someone online. \"\n",
    "    \"Consider only information explicitly available in the text and avoid making assumptions or inferences. \"\n",
    "    \"Format your output as follows: \"\n",
    "    '''{\"Cyber\": \"Yes/No\"}'''\n",
    "    \"Return only this format with no additional text, explanations, or options. Do not provide any other output. Below is the input text: \"\n",
    ")\n",
    "\n",
    "process_batches(df, content_list, 'Cyber', 'Location', cyber_input_system, cyber_task, 'Cyber', batch_size = 1000)\n"
   ]
  },
  {
   "cell_type": "markdown",
   "id": "cd0da044-6d3f-44c2-990a-a2c4af4499b4",
   "metadata": {
    "jp-MarkdownHeadingCollapsed": true
   },
   "source": [
    "## Environment Feature Extraction"
   ]
  },
  {
   "cell_type": "code",
   "execution_count": null,
   "id": "da480560-bac8-4e6f-8201-e361a6c81b10",
   "metadata": {},
   "outputs": [],
   "source": [
    "night_time_input_system = (\n",
    "    \"You are an expert NLP model specialized in analyzing trauma narratives related to sexual violence on social media platforms. \"\n",
    "    \"Your goal is to determine whether the violence inflicted by the perpetrator on the victim occurred at nighttime. \"\n",
    ")\n",
    "\n",
    "night_time_task = (\n",
    "    \"Your task is to analyze the following text and identify if the violence inflicted by the perpetrator (person causing harm) on the victim (person harmed) occurred at nighttime. \"\n",
    "    \"Nighttime is defined as the period between 9:00 PM and 6:00 AM local time, when it is typically dark outside. \"\n",
    "    \"Consider only explicit information available in the text and avoid making assumptions or inferences. \"\n",
    "    \"Format your output as follows: \"\n",
    "    '''{\"NightTime\": \"Yes/No\"}'''\n",
    "    \"Return only this format with no additional text, explanations, or options. Do not provide any other output. Below is the input text: \"\n",
    ")\n",
    "\n",
    "process_batches(df, content_list, 'NightTime', 'Environment', night_time_input_system, night_time_task, 'NightTime', batch_size=1000)\n"
   ]
  },
  {
   "cell_type": "code",
   "execution_count": null,
   "id": "bde79e7f-631b-4b79-9410-3f6ea7a01e8d",
   "metadata": {},
   "outputs": [],
   "source": [
    "intoxication_input_system = (\n",
    "    \"You are an expert NLP model specialized in analyzing trauma narratives related to sexual violence on social media platforms. \"\n",
    "    \"Your goal is to determine whether the violence inflicted by the perpetrator on the victim occurred when the victim was intoxicated. \"\n",
    ")\n",
    "\n",
    "intoxication_task = (\n",
    "    \"Your task is to analyze the following text and identify if the violence inflicted by the perpetrator (person causing harm) on the victim (person harmed) \"\n",
    "    \"occurred when the victim was intoxicated, i.e., under the influence of alcohol or any drugs. \"\n",
    "    \"Consider only explicit information available in the text and avoid making assumptions or inferences. \"\n",
    "    \"Format your output as follows: \"\n",
    "    '''{\"Intoxicated\": \"Yes/No\"}'''\n",
    "    \"Return only this format with no additional text, explanations, or options. Do not provide any other output. Below is the input text: \"\n",
    ")\n",
    "\n",
    "process_batches(df, content_list, 'Intoxicated', 'Environment', intoxication_input_system, intoxication_task, 'Intoxicated', batch_size=1000)\n"
   ]
  },
  {
   "cell_type": "markdown",
   "id": "465ef959-6952-478b-8651-bbdc155834f5",
   "metadata": {
    "jp-MarkdownHeadingCollapsed": true
   },
   "source": [
    "## Pattern Feature Extraction"
   ]
  },
  {
   "cell_type": "code",
   "execution_count": null,
   "id": "4492ad43-3d67-4b7e-9df4-02e79ed7a9fb",
   "metadata": {},
   "outputs": [],
   "source": [
    "singular_input_system = (\n",
    "    \"You are an expert NLP model specialized in analyzing trauma narratives related to sexual violence on social media platforms. \"\n",
    "    \"Your goal is to determine whether the violence inflicted by the perpetrator on the victim was a single, isolated incident with no indication of repeated or ongoing harm.\"\n",
    ")\n",
    "singular_task = (\n",
    "    \"Analyze the following text and identify if the violence inflicted by the perpetrator on the victim was a singular event. \"\n",
    "    \"A singular event is defined as a one-time incident of violence that did not persist or recur over an extended period (e.g., days, weeks, months, or years). \"\n",
    "    \"Exclude cases where the violence stopped momentarily and then resumed. Consider only explicit information available in the text. \"\n",
    "    \"Return the result strictly in the following format: \\n\"\n",
    "    '''{\"Singular\": \"Yes/No\"}''' \"\\n\"\n",
    "    \"Return only this format with no additional text, explanations, or options. Do not provide any other output. Below is the input text: \"\n",
    ")\n",
    "\n",
    "\n",
    "process_batches(df, content_list, 'Singular', 'Pattern', singular_input_system, singular_task, 'Singular', batch_size=1000)\n"
   ]
  },
  {
   "cell_type": "code",
   "execution_count": null,
   "id": "f090d9e8-850d-4b1c-ad94-00c6127be6b9",
   "metadata": {},
   "outputs": [],
   "source": [
    "recurring_input_system = (\n",
    "    \"You are an expert NLP model specialized in analyzing trauma narratives related to sexual violence on social media platforms. \"\n",
    "    \"Your goal is to determine whether the violence inflicted by the perpetrator on the victim was recurring or persistent.\"\n",
    ")\n",
    "recurring_task = (\n",
    "    \"Analyze the following text and identify if the violence inflicted by the perpetrator on the victim occurred multiple times or was an ongoing pattern. \"\n",
    "    \"Recurring or persistent violence may be indicated by phrases such as 'multiple times', 'repeatedly', 'ongoing', 'continued', or 'over time'. \"\n",
    "    \"Consider only explicit information available in the text and avoid making assumptions or inferences. \"\n",
    "    \"Format your output as follows: \\n\"\n",
    "    '''{\"Recurring\": \"Yes/No\"}'''\n",
    "    \"Return only this format with no additional text, explanations, or options. Do not provide any other output. Below is the input text: \"\n",
    ")\n",
    "\n",
    "process_batches(df, content_list, 'Recurring', 'Pattern', recurring_input_system, recurring_task, 'Recurring', batch_size=1000)\n"
   ]
  },
  {
   "cell_type": "markdown",
   "id": "f37dfdf6-00c1-4d6d-bb75-3aa4849d9214",
   "metadata": {
    "jp-MarkdownHeadingCollapsed": true
   },
   "source": [
    "## SelfBlame Feature Extraction"
   ]
  },
  {
   "cell_type": "code",
   "execution_count": null,
   "id": "d4f2cd8b-a806-4c70-81b2-48dd25bf6740",
   "metadata": {},
   "outputs": [],
   "source": [
    "notendingabuse_input_system = (\n",
    "    \"You are an expert NLP model specialized in analyzing trauma narratives related to sexual and domestic violence on social media platforms. \"\n",
    "    \"Your goal is to determine whether the text explicitly shows that the victim blames themselves for not ending the abuse inflicted by the perpetrator sooner. \"\n",
    ")\n",
    "\n",
    "notendingabuse_task = (\n",
    "    \"Your task is to analyze the following text and determine whether the victim self-blames for not ending the abuse sooner. \"\n",
    "    \"Follow these steps: \"\n",
    "    \"1. Identify any direct statements where the victim expresses guilt, regret, or blame for not acting sooner. \"\n",
    "    \"2. Classify the text as 'Yes' if self-blame is explicitly present, or 'No' if there is no clear self-blame. \"\n",
    "    \"Examples: \"\n",
    "    \"Example 1 (Yes): 'I feel disgusted in myself for ever having been with him, and responsible because I didn’t leave sooner.'\\n\"\n",
    "    \"Example 2 (Yes): 'I froze. I should have screamed or run away, but I didn’t. I just laid there and let him do it to me.'\\n\"\n",
    "    \"Example 3 (No): 'It took me a long time to leave, but I know that I did the best I could under those circumstances.'\\n\"\n",
    "    \"Example 4 (No): 'I didn’t fight back, but that doesn’t mean it was my fault.'\\n\"\n",
    "    \"Important: ONLY use explicit statements in the text. DO NOT make assumptions or infer anything beyond what is directly stated in the text. \"\n",
    "    \"Format your output as follows: \\n\"\n",
    "    '''{\"NotEndingAbuse\": \"Yes/No\"}'''\n",
    "    \"Return ONLY this JSON format with no extra text, explanations, or alternative options. Below is the input text:\"\n",
    ")\n",
    "\n",
    "process_batches(df, content_list, 'NotEndingAbuse', 'SelfBlame', notendingabuse_input_system, notendingabuse_task, 'NotEndingAbuse', batch_size=1000)\n"
   ]
  },
  {
   "cell_type": "code",
   "execution_count": null,
   "id": "5d277800-d52c-4845-a114-d59bc8a28d11",
   "metadata": {},
   "outputs": [],
   "source": [
    "enablingabuser_input_system = (\n",
    "    \"You are an expert NLP model specialized in analyzing trauma narratives related to sexual and domestic violence on social media platforms. \"\n",
    "    \"DO NOT make assumptions or infer anything beyond what is directly stated in the text.\"\n",
    ")\n",
    "\n",
    "enablingabuser_task = (\n",
    "    \"Your task is to analyze the following text and determine whether the victim expresses self-blame for enabling, allowing, or excusing the abuser’s behavior. \"\n",
    "    \"Follow these steps: \"\n",
    "    \"1. Identify any direct statements where the victim expresses guilt, regret, or responsibility for allowing the abuse to continue. \"\n",
    "    \"2. Classify the text as 'Yes' if explicit self-blame is present, or 'No' if the victim does not blame themselves for enabling the abuse. \"\n",
    "    \"Examples:\"\n",
    "    \"Example 1 (Yes): 'I said yes to making out, but then he forced himself on me. I should have never let things get that far.'\\n\"\n",
    "    \"Example 2 (Yes): 'I agreed to go to his place, so I guess it’s my fault for not seeing this coming.'\\n\"\n",
    "    \"Example 3 (Yes): 'I told him we could do some stuff but not sex. Maybe I led him on by not leaving sooner.'\\n\"\n",
    "    \"Example 4 (No): 'I told him no, but he didn’t listen. That’s not on me.'\\n\"\n",
    "    \"Example 5 (No): 'Just because I agreed to one thing doesn’t mean he had the right to do whatever he wanted.'\\n\"\n",
    "   \"Important: ONLY use explicit statements in the text. Do NOT infer.\\n\"\n",
    "    \"Format your output as follows:\\n\"\n",
    "    '''{\"EnablingAbuser\": \"Yes/No\"}'''\n",
    "    \"Return ONLY this JSON format with no extra text, explanations, or alternative options. Below is the input text:\"\n",
    ")\n",
    "\n",
    "process_batches(df, content_list, 'EnablingAbuser', 'SelfBlame', enablingabuser_input_system, enablingabuser_task, 'EnablingAbuser', batch_size=1000)\n"
   ]
  },
  {
   "cell_type": "markdown",
   "id": "c3ce639a-0558-4dd1-ab7f-f8ec89e4bee1",
   "metadata": {
    "jp-MarkdownHeadingCollapsed": true
   },
   "source": [
    "## Abuser Feature Extraction"
   ]
  },
  {
   "cell_type": "code",
   "execution_count": null,
   "id": "38cd0df1-f9c6-49ad-9270-881eef530bf0",
   "metadata": {},
   "outputs": [],
   "source": [
    "detailed_abuser_discussion_input_system = (\n",
    "    \"You are an expert NLP model specialized in analyzing trauma narratives related to sexual and domestic violence on social media platforms. \"\n",
    "    \"Your goal is to determine whether the text provides explicit, specific details about the abuser's actions, behavior, or impact.\"\n",
    ")\n",
    "\n",
    "detailed_abuser_discussion_task = (\n",
    "    \"Analyze the following text and decide if it provides explicit, specific details about the abuser's actions, behavior, or impact. \"\n",
    "    \"A 'detailed discussion' requires explicit descriptions of the abuser's: \"\n",
    "    \"- Specific actions or behaviors \"\n",
    "    \"- Thoughts, feelings, or motivations \"\n",
    "    \"- Impact on the victim's life or well-being \"\n",
    "    \"Examples of detailed discussions include descriptions of manipulation, control, gaslighting, or other abusive tactics. \"\n",
    "    \"Classify the text as 'Yes' if it provides explicit, specific details about the abuser, or 'No' if the mention is brief, vague, or absent. \"\n",
    "    \"Only consider explicit information in the text and avoid making inferences. \"\n",
    "    \"Format your output as follows:\\n\"\n",
    "    '''{\"DetailedAbuserDiscussion\": \"Yes/No\"}'''\n",
    "    \"Return only this format with no additional text, explanations, or options. Do not provide any other output. Below is the input text:\"\n",
    ")\n",
    "\n",
    "process_batches(df, content_list, 'DetailedAbuserDiscussion', 'Abuser', detailed_abuser_discussion_input_system, detailed_abuser_discussion_task, 'DetailedAbuserDiscussion', batch_size=1000)\n"
   ]
  },
  {
   "cell_type": "markdown",
   "id": "c2500f3f-a97b-4b4c-a479-42c1ba8ab349",
   "metadata": {
    "jp-MarkdownHeadingCollapsed": true
   },
   "source": [
    "## Characters Feature Extraction"
   ]
  },
  {
   "cell_type": "code",
   "execution_count": null,
   "id": "8991d878-3eb6-4409-93f6-fda7eef7c89c",
   "metadata": {},
   "outputs": [],
   "source": [
    "supporters_input_system = (\n",
    "    \"You are an expert NLP model specialized in analyzing trauma narratives related to sexual and domestic violence on social media platforms. \"\n",
    "    \"Your goal is to determine whether the victim mentions any supporters who helped or aided their recovery from the violence they experienced.\"\n",
    ")\n",
    "\n",
    "supporters_task = (\n",
    "    \"Analyze the following social media post and determine whether the victim is mentioning any supporters. \"\n",
    "    \"This includes references to individuals or groups providing emotional, psychological, or physical support, such as friends, family members, \"\n",
    "    \"therapists, or support organizations, who help in the victim's recovery process by providing any form of aid. \"\n",
    "    \"Consider only the information explicitly stated in the post. Avoid making assumptions or inferences. \"\n",
    "    \"Return the result strictly in the following format:\\n\" \n",
    "    '''{\"Supporters\": \"Yes/No\"}''' \"\\n\"\n",
    "    \"Return only this format with no additional text, explanations, or options. Do not provide any other output. Below is the input text:\"\n",
    ")\n",
    "\n",
    "process_batches(df, content_list, 'Supporters', 'Characters', supporters_input_system, supporters_task, 'Supporters', batch_size=1000)\n"
   ]
  },
  {
   "cell_type": "code",
   "execution_count": null,
   "id": "9efb2a70-c0b2-46c5-b96b-0dd1b1b31635",
   "metadata": {},
   "outputs": [],
   "source": [
    "antagonists_input_system = (\n",
    "    \"You are an expert NLP model specialized in analyzing trauma narratives related to sexual and domestic violence on social media platforms. \"\n",
    "    \"Your goal is to identify individuals or groups, excluding the primary perpetrator, who have caused additional harm or hindered the victim's recovery.\")\n",
    "\n",
    "antagonists_task = (\n",
    "    \"Analyze the following social media post and determine whether the victim mentions any antagonists. \"\n",
    "    \"An antagonist is any individual or group, excluding the perpetrator, who has contributed to the victim’s distress or hindered their recovery. \"\n",
    "    \"This includes friends, family members, authorities, or community members who engaged in harmful actions such as disbelief, victim-blaming, minimizing the abuse, pressuring the victim into silence, or providing inadequate support. \"\n",
    "    \"Only consider information explicitly stated in the post. Avoid making assumptions or inferences. \"\n",
    "    \"Important: This does NOT include the perpetrator, i.e., the primary person who inflicted violence on the victim. \"\n",
    "    \"Return the result strictly in the following format:\\n\"  \n",
    "    '''{\"Antagonists\": \"Yes/No\"}''' \"\\n\"\n",
    "    \"Return only this format with no additional text, explanations, or options. Do not provide any other output. Below is the input text:\"\n",
    ")\n",
    "\n",
    "process_batches(df, content_list, 'Antagonists', 'Characters', antagonists_input_system, antagonists_task, 'Antagonists', batch_size=1000)\n"
   ]
  },
  {
   "cell_type": "markdown",
   "id": "62df6a86-fe67-4841-9dbf-ac9fa87a4420",
   "metadata": {
    "jp-MarkdownHeadingCollapsed": true
   },
   "source": [
    "## Abuse Type Feature Extraction"
   ]
  },
  {
   "cell_type": "code",
   "execution_count": null,
   "id": "adcb983f-11c1-4ca3-981d-b87e263736f2",
   "metadata": {},
   "outputs": [],
   "source": [
    "physical_input_system = (\n",
    "    \"You are an expert NLP model specialized in analyzing trauma narratives related to violence on social media platforms. \"\n",
    "    \"Your goal is to determine whether the perpetrator inflicted physical harm or injury on the victim, excluding sexual assault and non-consensual touching.\"\n",
    ")\n",
    "physical_task = (\n",
    "    \"Analyze the following trauma narrative and determine whether the perpetrator physically assaulted the victim, resulting in bodily harm, pain, or injury. \"\n",
    "    \"Physical Assault is defined as intentional acts of violence or force, such as: \"\n",
    "    \"- Intentional physical contact (e.g., hitting, slapping, pushing, grabbing) that results in visible injuries or harm \"\n",
    "    \"- Restraint or confinement (e.g., holding down, tying up) that leads to physical harm \"\n",
    "    \"- Use of objects or weapons to inflict physical harm \"\n",
    "    \"Excludes sexual assault, non-consensual touching, and emotional or psychological abuse. \"\n",
    "    \"Consider only explicit information stated in the post. Avoid making assumptions or inferences. \"\n",
    "    \"Return the result strictly in the following format: \\n\"\n",
    "    '''{\"Physical\": \"Yes/No\"}''' \"\\n\"\n",
    "    \"Return only this format with no additional text, explanations, or options. Do not provide any other output. Below is the input text: \"\n",
    ")\n",
    "\n",
    "process_batches(df, content_list, 'Physical', 'AbuseType', physical_input_system, physical_task, 'Physical', batch_size = 1000)\n"
   ]
  },
  {
   "cell_type": "code",
   "execution_count": null,
   "id": "afd6a25d-afdc-4746-b7ea-ca04218a0ceb",
   "metadata": {},
   "outputs": [],
   "source": [
    "verbal_input_system =  (\n",
    "    \"You are an expert NLP model specialized in analyzing trauma narratives related to sexual violence on social media platforms. \"\n",
    "    \"Your goal is to determine whether the perpetrator verbally abused the victim, i.e., through non-physical means.\"\n",
    ")\n",
    "verbal_task = (\n",
    "    \"Analyze the following trauma narrative and determine whether the perpetrator (the person responsible for the harm) verbally abused the victim (the person harmed) through non-physical means. \"\n",
    "    \"Non-physical abuse includes behaviors such as: \"\n",
    "    \"- Emotional manipulation or control \"\n",
    "    \"- Verbal aggression, threats, or intimidation \"\n",
    "    \"- Psychological coercion, gaslighting, or stalking \"\n",
    "    \"- Constant criticism, humiliation, or belittling \"\n",
    "    \"- Isolation from loved ones or support networks \"\n",
    "    \"Consider only information explicitly stated in the post. Avoid making assumptions or inferences. \"\n",
    "    \"Return the result strictly in the following format: \\n\"\n",
    "    '''{\"Verbal\": \"Yes/No\"}''' \"\\n\"\n",
    "    \"Return only this format with no additional text, explanations, or options. Do not provide any other output. Below is the input text: \"\n",
    ")\n",
    "\n",
    "process_batches(df, content_list, 'Verbal', 'AbuseType', verbal_input_system, verbal_task, 'Verbal', batch_size = 1000)\n"
   ]
  },
  {
   "cell_type": "code",
   "execution_count": null,
   "id": "2b695e9d-e51f-4a6f-bfe8-ed63ab7cbe86",
   "metadata": {},
   "outputs": [],
   "source": [
    "economic_input_system = (\n",
    "    \"You are an expert NLP model specialized in analyzing trauma narratives related to sexual violence on social media platforms. \"\n",
    "    \"Your goal is to determine whether the perpetrator economically abused the victim. \"\n",
    ")\n",
    "\n",
    "economic_task = (\n",
    "    \"Analyze the following trauma narrative and determine whether the perpetrator (the person responsible for the harm) economically abused the victim (the person harmed). \"\n",
    "    \"Economic Abuse is defined as controlling or restricting a person's access to financial resources to create dependence, limit autonomy, or force compliance. \"\n",
    "    \"This includes preventing employment, withholding money, or coercing financial decisions. \\n\"\n",
    "    \"Consider only information explicitly stated in the post. Avoid making assumptions or inferences. \"\n",
    "    \"Return the result strictly in the following format: \\n\" \n",
    "    '''{\"Economic\": \"Yes/No\"}''' \"\\n\"\n",
    "    \"Return only this format with no additional text, explanations, or options. Do not provide any other output. Below is the input text: \"\n",
    ")\n",
    "\n",
    "process_batches(df, content_list, 'Economic', 'AbuseType', economic_input_system, economic_task, 'Economic', batch_size = 1000)\n"
   ]
  },
  {
   "cell_type": "code",
   "execution_count": null,
   "id": "4ffd7591-ace1-44ac-8fee-9aebd3f780d8",
   "metadata": {},
   "outputs": [],
   "source": [
    "technological_input_system = (\n",
    "    \"You are an expert NLP model specialized in analyzing trauma narratives related to sexual violence on social media platforms. \"\n",
    "    \"Your goal is to determine whether the perpetrator technologically abused the victim. \"\n",
    ")\n",
    "\n",
    "technological_task = (\n",
    "    \"Analyze the following trauma narrative and determine whether the perpetrator (the person responsible for the harm) technologically abused the victim (the person harmed). \"\n",
    "    \"Technological abuse is defined as the use of digital tools to stalk, harass, monitor, or control someone, such as cyberstalking, unauthorized tracking, non-consensual sharing of images, or online harassment. \"\n",
    "    \"It often extends real-world abuse into virtual spaces. \\n\"\n",
    "    \"Consider only information explicitly stated in the post. Avoid making assumptions or inferences. \"\n",
    "    \"Return the result strictly in the following format: \\n\" \n",
    "    '''{\"Technological\": \"Yes/No\"}''' \"\\n\"\n",
    "    \"Return only this format with no additional text, explanations, or options. Do not provide any other output. Below is the input text: \"\n",
    ")\n",
    "\n",
    "process_batches(df, content_list, 'Technological', 'AbuseType', technological_input_system, technological_task, 'Technological', batch_size = 1000)\n"
   ]
  },
  {
   "cell_type": "code",
   "execution_count": null,
   "id": "4c0647f6-ebe0-4167-8e07-ec90ccead088",
   "metadata": {},
   "outputs": [],
   "source": [
    "sexualharassment_input_system = (\n",
    "\"You are an expert NLP model specialized in analyzing trauma narratives related to sexual violence on social media platforms. \"\n",
    "\"Your goal is to determine whether the perpetrator sexually harassed the victim through non-physical behaviors.\"\n",
    ")\n",
    "sexualharassment_task = (\n",
    "\"Analyze the following trauma narrative and determine whether the perpetrator sexually harassed the victim through non-physical behaviors. \"\n",
    "\"Sexual harassment is defined as unwanted verbal or non-verbal behaviors, such as: \"\n",
    "\"- Unwelcome comments, jokes, or remarks of a sexual nature \"\n",
    "\"- Displaying explicit images or content \"\n",
    "\"- Sending unwanted explicit messages or images \"\n",
    "\"- Making unwanted advances or propositions \"\n",
    "\"- Engaging in online stalking or cyberbullying \"\n",
    "\"Excludes physical contact or assault. Consider only information explicitly stated in the post. Avoid making assumptions or inferences. \"\n",
    "\"Return the result strictly in the following format: \\n\"\n",
    "'''{\"SexualHarassment\": \"Yes/No\"}''' \"\\n\"\n",
    "\"Return only this format with no additional text, explanations, or options. Do not provide any other output. Below is the input text: \"\n",
    ")\n",
    "\n",
    "process_batches(df, content_list, 'SexualHarassment', 'AbuseType', sexualharassment_input_system, sexualharassment_task, 'SexualHarassment', batch_size = 1000)\n"
   ]
  },
  {
   "cell_type": "code",
   "execution_count": null,
   "id": "944700b3-c008-40ad-8cf3-9878bd0a4f7e",
   "metadata": {},
   "outputs": [],
   "source": [
    "sexualassault_input_system = (\n",
    "    \"You are an expert NLP model specialized in analyzing trauma narratives related to sexual violence on social media platforms. \"\n",
    "    \"Your goal is to determine whether the perpetrator sexually assaulted the victim. \"\n",
    ")\n",
    "\n",
    "sexualassault_task = (\n",
    "    \"Analyze the following trauma narrative and determine whether the perpetrator (the person responsible for the harm) sexually assaulted the victim (the person harmed). \"\n",
    "    \"Sexual Assault is defined as any non-consensual sexual act, ranging from unwanted touching of any body part to penetration, obtained through force, coercion, manipulation, or incapacitation. \\n\"\n",
    "    \"Consider only information explicitly stated in the post. Avoid making assumptions or inferences. \"\n",
    "    \"Return the result strictly in the following format: \\n\" \n",
    "    '''{\"SexualAssault\": \"Yes/No\"}''' \"\\n\"\n",
    "    \"Return only this format with no additional text, explanations, or options. Do not provide any other output. Below is the input text: \"\n",
    ")\n",
    "\n",
    "process_batches(df, content_list, 'SexualAssault', 'AbuseType', sexualassault_input_system, sexualassault_task, 'SexualAssault', batch_size = 1000)\n"
   ]
  },
  {
   "cell_type": "markdown",
   "id": "edc983c4-e6f9-49b4-b953-c5b5ace6321e",
   "metadata": {
    "jp-MarkdownHeadingCollapsed": true
   },
   "source": [
    "## Coping Feature Extraction"
   ]
  },
  {
   "cell_type": "code",
   "execution_count": null,
   "id": "0ed2ae05-b264-4528-aad5-59652e8e02ac",
   "metadata": {},
   "outputs": [],
   "source": [
    "confront_abuser_input_system = (\n",
    "    \"You are an expert NLP model specialized in analyzing trauma narratives related to sexual violence on social media platforms. \"\n",
    "    \"Your goal is to determine whether the victim confronted the perpetrator about the violence they inflicted. \"\n",
    ")\n",
    "\n",
    "confront_abuser_task = (\n",
    "    \"Analyze the following trauma narrative and determine whether the victim (the person harmed) confronted the perpetrator (the person responsible for the harm) about the violence inflicted. \"\n",
    "    \"Confrontation includes direct verbal or written communication in which the victim addresses the abuse, expresses their feelings, or demands accountability. \"\n",
    "    \"Consider only information explicitly stated in the post. Avoid making assumptions or inferences. \"\n",
    "    \"Return the result strictly in the following format: \\n\" \n",
    "    '''{\"ConfrontAbuser\": \"Yes/No\"}''' \"\\n\"\n",
    "    \"Return only this format with no additional text, explanations, or options. Do not provide any other output. Below is the input text: \"\n",
    ")\n",
    "\n",
    "process_batches(df, content_list, 'ConfrontAbuser', 'Coping', confront_abuser_input_system, confront_abuser_task, 'ConfrontAbuser', batch_size = 1000)\n"
   ]
  },
  {
   "cell_type": "code",
   "execution_count": null,
   "id": "22d5329d-0a21-41e8-9c91-59a74172fbbf",
   "metadata": {},
   "outputs": [],
   "source": [
    "reporting_input_system = (\n",
    "    \"You are an expert NLP model specialized in analyzing trauma narratives related to sexual violence on social media platforms. \"\n",
    "    \"Your goal is to determine whether the victim reported the violence inflicted by the perpetrator to any authority figure or institution. \"\n",
    ")\n",
    "\n",
    "reporting_task = (\n",
    "    \"Analyze the following trauma narrative and determine whether the victim (the person harmed) reported the violence inflicted by the \"\n",
    "    \"perpetrator (the person responsible for the harm) to any authority figure or institution. \"\n",
    "    \"Authority reporting includes filing an official complaint, contacting law enforcement or the police, reporting to workplace HR, \"\n",
    "    \"school officials (e.g., teachers, principals, counselors), university administration, or any other organizational authority. \"\n",
    "    \"Consider only information explicitly stated in the post. Avoid making assumptions or inferences. \"\n",
    "    \"Return the result strictly in the following format: \\n\" \n",
    "    '''{\"Reporting\": \"Yes/No\"}''' \"\\n\"\n",
    "    \"Return only this format with no additional text, explanations, or options. Do not provide any other output. Below is the input text: \"\n",
    ")\n",
    "\n",
    "process_batches(df, content_list, 'Reporting', 'Coping', reporting_input_system, reporting_task, 'Reporting', batch_size = 1000)\n"
   ]
  },
  {
   "cell_type": "code",
   "execution_count": null,
   "id": "7310961c-e0dc-407c-a5b4-e841071a1e6e",
   "metadata": {},
   "outputs": [],
   "source": [
    "severing_ties_input_system = (\n",
    "    \"You are an expert NLP model specialized in analyzing trauma narratives related to sexual violence on social media platforms. \"\n",
    "    \"Your goal is to determine whether the victim attempted to or successfully severed ties with the perpetrator. \"\n",
    ")\n",
    "\n",
    "severing_ties_task = (\n",
    "    \"Analyze the following trauma narrative and determine whether the victim (the person harmed) attempted to or successfully severed ties with the perpetrator (the person responsible for the harm). \"\n",
    "    \"Severing ties means ending the relationship. This includes actions such as avoiding ccontactcutting off communication, blocking the perpetrator, moving away, or severing social, financial, or legal connections. \"\n",
    "    \"Consider only information explicitly stated in the post. Avoid making assumptions or inferences. \"\n",
    "    \"Return the result strictly in the following format:\\n\" \n",
    "    '''{\"SeveringTies\": \"Yes/No\"}''' \"\\n\"\n",
    "    \"Return only this format with no additional text, explanations, or options. Do not provide any other output. Below is the input text:\"\n",
    ")\n",
    "\n",
    "process_batches(df, content_list, 'SeveringTies', 'Coping', severing_ties_input_system, severing_ties_task, 'SeveringTies', batch_size=1000)\n"
   ]
  },
  {
   "cell_type": "markdown",
   "id": "b788e684-a678-4dbb-a324-4eedb54c758e",
   "metadata": {
    "jp-MarkdownHeadingCollapsed": true
   },
   "source": [
    "## Intent Feature Extraction"
   ]
  },
  {
   "cell_type": "code",
   "execution_count": null,
   "id": "706091f3-add4-409e-a4a9-da7e7d773116",
   "metadata": {},
   "outputs": [],
   "source": [
    "seeking_legal_classification_input_system = (\n",
    "    \"You are an expert NLP model specialized in analyzing trauma narratives related to sexual violence on social media platforms. \"\n",
    "    \"Your goal is to identify if the victim is seeking clarification on the legal definition or classification of the violence they experienced.\"\n",
    ")\n",
    "seeking_legal_classification_task = (\n",
    "    \"Analyze the following social media post and determine whether the victim is asking for help understanding the legal implications or classification of their experience. \"\n",
    "    \"This includes questions about whether their experience meets the legal definition of a specific crime or form of harm, such as sexual assault, domestic violence, or harassment. \"\n",
    "    \"Look for explicit phrases, such as 'Is this considered [crime]?' or 'Does this qualify as [form of harm]?' \"\n",
    "    \"Consider only information explicitly stated in the post. Avoid making assumptions or inferences. \"\n",
    "    \"Return the result strictly in the following format:\\n\"\n",
    "    '''{\"SeekingLegalClassification\": \"Yes/No\"}''' \"\\n\"\n",
    "    \"Return only this format with no additional text, explanations, or options. Do not provide any other output. Below is the input text:\"\n",
    ")\n",
    "\n",
    "process_batches(df, content_list, 'SeekingLegalClassification', 'Intent', seeking_legal_classification_input_system, seeking_legal_classification_task, 'SeekingLegalClassification', batch_size=1000)\n"
   ]
  },
  {
   "cell_type": "code",
   "execution_count": null,
   "id": "0e3a204f-5a1f-496c-9ba9-51826782d3e8",
   "metadata": {},
   "outputs": [],
   "source": [
    "seeking_support_input_system = (\n",
    "    \"You are an expert NLP model specialized in analyzing trauma narratives related to sexual violence on social media platforms. \"    \n",
    "    \"Your goal is to determine whether the victim is seeking support from readers on the platform. \"\n",
    ")\n",
    "\n",
    "seeking_support_task = (\n",
    "    \"Analyze the following social media post and determine whether the victim is seeking support. \"\n",
    "    \"This includes but is not limited to expressing distress, sharing their emotions, asking for reassurance, asking for ways to recover from a traumatic and abusive experience, \"\n",
    "    \"seeking advice on dealing with the aftermath of violence, seeking comfort and validation, looking for support from people who have had similar experiences, and so on. \"\n",
    "    \"Consider only information explicitly stated in the post. Avoid making assumptions or inferences. \"\n",
    "    \"Return the result strictly in the following format:\\n\" \n",
    "    '''{\"SeekingSupport\": \"Yes/No\"}''' \"\\n\"\n",
    "    \"Return only this format with no additional text, explanations, or options. Do not provide any other output. Below is the input text:\"\n",
    ")\n",
    "\n",
    "process_batches(df, content_list, 'SeekingSupport', 'Intent', seeking_support_input_system, seeking_support_task, 'SeekingSupport', batch_size=1000)\n"
   ]
  },
  {
   "cell_type": "code",
   "execution_count": null,
   "id": "b8d29888-178c-4159-952f-71065b18e40c",
   "metadata": {},
   "outputs": [],
   "source": [
    "seeking_legal_advice_input_system = (\n",
    "    \"You are an expert NLP model specialized in analyzing trauma narratives related to sexual violence on social media platforms. \"    \n",
    "    \"Your goal is to determine whether the victim is seeking legal advice about their experience with violence from readers on the platform. \"\n",
    ")\n",
    "\n",
    "seeking_legal_advice_task = (\n",
    "    \"Analyze the following social media post and determine whether the victim is asking for legal advice. \"\n",
    "    \"This includes inquiries about what legal actions to take, whether they should report to the police or other authorities, or how to proceed with legal steps. \"\n",
    "    \"For instance, the victim might ask: 'What should I do if I want to press charges?' or 'How do I file for a restraining order?' \"\n",
    "    \"Consider only information explicitly stated in the post. Avoid making assumptions or inferences. \"\n",
    "    \"Return the result strictly in the following format:\\n\" \n",
    "    '''{\"SeekingLegalAdvice\": \"Yes/No\"}''' \"\\n\"\n",
    "    \"Return only this format with no additional text, explanations, or options. Do not provide any other output. Below is the input text:\"\n",
    ")\n",
    "\n",
    "process_batches(df, content_list, 'SeekingLegalAdvice', 'Intent', seeking_legal_advice_input_system, seeking_legal_advice_task, 'SeekingLegalAdvice', batch_size=1000)\n",
    "\n"
   ]
  },
  {
   "cell_type": "markdown",
   "id": "262e54e3-2a85-417d-9b71-8899705e1cf6",
   "metadata": {},
   "source": [
    "## Impact Feature Extraction"
   ]
  },
  {
   "cell_type": "code",
   "execution_count": null,
   "id": "5875969d-b2d8-4b83-a467-112ab53dd311",
   "metadata": {},
   "outputs": [],
   "source": [
    "nightmares_input_system = (\n",
    "    \"You are an expert NLP model specialized in analyzing trauma narratives related to sexual violence on social media platforms. \"\n",
    "    \"Your goal is to determine whether the victim experiences nightmares, flashbacks, or intrusive memories as the result of the violence they experienced.\"\n",
    ")\n",
    "\n",
    "nightmares_task = (\n",
    "    \"Analyze the following social media post and determine whether the victim experiences nightmares, flashbacks, or intrusive memories as the result of the violence they experienced. \"\n",
    "    \"This includes symptoms such as flashbacks and nightmares. \"\n",
    "    \"Consider only the information explicitly stated in the post. Avoid making assumptions or inferences. \"\n",
    "    \"Return the result strictly in the following format:\\n\" \n",
    "    '''{\"Nightmares\": \"Yes/No\"}''' \"\\n\"\n",
    "    \"Return only this format with no additional text, explanations, or options. Do not provide any other output. Below is the input text:\"\n",
    ")\n",
    "\n",
    "process_batches(df, content_list, 'Nightmares', 'Impact', nightmares_input_system, nightmares_task, 'Nightmares', batch_size=1000)\n"
   ]
  },
  {
   "cell_type": "code",
   "execution_count": null,
   "id": "41c20459-b9d3-43cd-8fbb-5b9bef6ed50f",
   "metadata": {},
   "outputs": [],
   "source": [
    "physical_injury_input_system = (\n",
    "    \"You are an expert NLP model specialized in analyzing trauma narratives related to sexual violence on social media platforms. \"\n",
    "    \"Your goal is to determine whether the victim is describing physical injuries they sustained as a result of the violence they experienced.\"\n",
    ")\n",
    "\n",
    "physical_injury_task = (\n",
    "    \"Analyze the following social media post and determine whether the victim is describing physical injuries. \"\n",
    "    \"This includes references to bruises, cuts, wounds, broken bones, burns, or any other physical harm inflicted by the perpetrator. \"\n",
    "    \"Consider only the information explicitly stated in the post. Avoid making assumptions or inferences. \"\n",
    "    \"Return the result strictly in the following format:\\n\" \n",
    "    '''{\"PhysicalInjury\": \"Yes/No\"}''' \"\\n\"\n",
    "    \"Return only this format with no additional text, explanations, or options. Do not provide any other output. Below is the input text:\"\n",
    ")\n",
    "\n",
    "process_batches(df, content_list, 'PhysicalInjury', 'Impact', physical_injury_input_system, physical_injury_task, 'PhysicalInjury', batch_size=1000)\n"
   ]
  },
  {
   "cell_type": "code",
   "execution_count": null,
   "id": "d825d4c7-4dfd-46bb-ac7d-ff75c108e613",
   "metadata": {},
   "outputs": [],
   "source": [
    "legal_barriers_input_system = (\n",
    "    \"You are an expert NLP model specialized in analyzing trauma narratives related to sexual violence on social media platforms. \"\n",
    "    \"Your goal is to determine whether the victim is describing legal barriers they are facing as a result of the violence they experienced.\"\n",
    ")\n",
    "\n",
    "legal_barriers_task = (\n",
    "    \"Analyze the following social media post and determine whether the victim is describing legal barriers. \"\n",
    "    \"This includes challenges in accessing legal resources, facing difficulties in filing reports, dealing with a lack of legal support, or experiencing injustice within the legal system. \"\n",
    "    \"For example:\\n\"\n",
    "    \"- A victim might mention that they cannot afford legal representation and are unable to pursue their case.\\n\"\n",
    "    \"- A victim might describe being turned away by the police when they tried to file a report.\\n\"\n",
    "    \"- A victim might express frustration about a lack of legal resources or support available to them.\\n\"\n",
    "    \"- A victim might discuss how the legal system failed to deliver justice or protect them.\\n\"\n",
    "    \"Consider only the information explicitly stated in the post. Avoid making assumptions or inferences. \"\n",
    "    \"Return the result strictly in the following format:\\n\" \n",
    "    '''{\"LegalBarriers\": \"Yes/No\"}''' \"\\n\"\n",
    "    \"Return only this format with no additional text, explanations, or options. Do not provide any other output. Below is the input text:\"\n",
    ")\n",
    "\n",
    "process_batches(df, content_list, 'LegalBarriers', 'Impact', legal_barriers_input_system, legal_barriers_task, 'LegalBarriers', batch_size=1000)\n"
   ]
  },
  {
   "cell_type": "code",
   "execution_count": null,
   "id": "bcab359c-7f94-4023-89c2-28da13084b44",
   "metadata": {},
   "outputs": [],
   "source": [
    "financial_instability_input_system = (\n",
    "    \"You are an expert NLP model specialized in analyzing trauma narratives related to sexual violence on social media platforms. \"\n",
    "    \"Your goal is to determine whether the victim is describing financial instability as a result of the violence they encountered.\"\n",
    ")\n",
    "\n",
    "financial_instability_task = (\n",
    "    \"Analyze the following social media post and determine whether the victim mentions experiencing 'Financial Instability'. \"\n",
    "    \"This includes job loss or increased expenses caused by the abuse. Victims may struggle to regain independence or cover basic needs. \"\n",
    "    \"Example: 'I lost my job and can’t afford rent because of the time I took off to recover.'\"\n",
    "    \"Consider only the information explicitly stated in the post. Avoid making assumptions or inferences. \"\n",
    "    \"Return the result strictly in the following format:\\n\" \n",
    "    '''{\"FinancialInstability\": \"Yes/No\"}''' \"\\n\"\n",
    "    \"Return only this format with no additional text, explanations, or options. Do not provide any other output. Below is the input text:\"\n",
    ")\n",
    "\n",
    "process_batches(df, content_list, 'FinancialInstability', 'Impact', financial_instability_input_system, financial_instability_task, 'FinancialInstability', batch_size=1000)\n"
   ]
  },
  {
   "cell_type": "code",
   "execution_count": null,
   "id": "35cf7d14-8876-421d-a51c-8fbadf999aac",
   "metadata": {},
   "outputs": [],
   "source": [
    "self_harming_input_system = (\n",
    "    \"You are an expert NLP model specialized in analyzing trauma narratives related to sexual violence on social media platforms. \"\n",
    "    \"Your goal is to determine whether the victim is describing self-harming behaviors as a result of the violence they experienced.\"\n",
    ")\n",
    "\n",
    "self_harming_task = (\n",
    "    \"Analyze the following social media post and determine whether the victim is describing self-harming behaviors. \"\n",
    "    \"This includes references to cutting, burning, overdosing (OD), or any other form of self-injury as a way of coping with the trauma. \"\n",
    "    \"This also includes the thought of self-harming. \"\n",
    "    \"Consider only the information explicitly stated in the post. Avoid making assumptions or inferences. \"\n",
    "    \"Return the result strictly in the following format:\\n\" \n",
    "    '''{\"SelfHarming\": \"Yes/No\"}''' \"\\n\"\n",
    "    \"Return only this format with no additional text, explanations, or options. Do not provide any other output. Below is the input text:\"\n",
    ")\n",
    "\n",
    "process_batches(df, content_list, 'SelfHarming', 'Impact', self_harming_input_system, self_harming_task, 'SelfHarming', batch_size=1000)\n"
   ]
  }
 ],
 "metadata": {
  "kernelspec": {
   "display_name": "Python 3 (ipykernel)",
   "language": "python",
   "name": "python3"
  },
  "language_info": {
   "codemirror_mode": {
    "name": "ipython",
    "version": 3
   },
   "file_extension": ".py",
   "mimetype": "text/x-python",
   "name": "python",
   "nbconvert_exporter": "python",
   "pygments_lexer": "ipython3",
   "version": "3.9.20"
  }
 },
 "nbformat": 4,
 "nbformat_minor": 5
}
